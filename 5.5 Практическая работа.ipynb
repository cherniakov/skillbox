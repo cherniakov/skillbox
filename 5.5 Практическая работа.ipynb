{
 "cells": [
  {
   "cell_type": "markdown",
   "metadata": {
    "id": "gt3Nt2ezhLLu"
   },
   "source": [
    "# __5.5 Практическая работа__"
   ]
  },
  {
   "cell_type": "markdown",
   "metadata": {
    "id": "TL62pTxGr1kr"
   },
   "source": [
    "### Цель практической работы"
   ]
  },
  {
   "cell_type": "markdown",
   "metadata": {
    "id": "jwFqg9Uzr7ZN"
   },
   "source": [
    "Закрепить знания, полученные при просмотре видео, решив задачу классификации цветных изображений. Вы поработаете с новым набором данных и построите оптимальный классификатор, используя callbacks и поиск оптимальных гиперпараметров."
   ]
  },
  {
   "cell_type": "markdown",
   "metadata": {
    "id": "ZhP_bOlWr_Uf"
   },
   "source": [
    "## __Шаги__"
   ]
  },
  {
   "cell_type": "markdown",
   "metadata": {
    "id": "b_Q-yggSnVUW"
   },
   "source": [
    "### 1. Импортируйте все необходимые библиотеки."
   ]
  },
  {
   "cell_type": "code",
   "execution_count": 2,
   "metadata": {
    "execution": {
     "iopub.execute_input": "2024-08-20T12:40:44.180135Z",
     "iopub.status.busy": "2024-08-20T12:40:44.179065Z",
     "iopub.status.idle": "2024-08-20T12:40:44.221445Z",
     "shell.execute_reply": "2024-08-20T12:40:44.220618Z",
     "shell.execute_reply.started": "2024-08-20T12:40:44.180092Z"
    },
    "tags": []
   },
   "outputs": [],
   "source": [
    "import warnings\n",
    "warnings.filterwarnings('ignore')"
   ]
  },
  {
   "cell_type": "code",
   "execution_count": 1,
   "metadata": {
    "execution": {
     "iopub.execute_input": "2024-07-05T11:01:20.222961Z",
     "iopub.status.busy": "2024-07-05T11:01:20.222140Z",
     "iopub.status.idle": "2024-07-05T11:01:20.314989Z",
     "shell.execute_reply": "2024-07-05T11:01:20.314360Z",
     "shell.execute_reply.started": "2024-07-05T11:01:20.222938Z"
    },
    "executionInfo": {
     "elapsed": 469,
     "status": "ok",
     "timestamp": 1720166733884,
     "user": {
      "displayName": "Алексей Николаевич Черняков",
      "userId": "03502009944256768352"
     },
     "user_tz": -180
    },
    "id": "-hKwo0pm7Lqv",
    "tags": []
   },
   "outputs": [],
   "source": [
    "# pip install keras-tuner --upgrade"
   ]
  },
  {
   "cell_type": "code",
   "execution_count": 10,
   "metadata": {
    "execution": {
     "iopub.execute_input": "2024-08-20T12:49:53.947479Z",
     "iopub.status.busy": "2024-08-20T12:49:53.946373Z",
     "iopub.status.idle": "2024-08-20T12:49:53.968380Z",
     "shell.execute_reply": "2024-08-20T12:49:53.967573Z",
     "shell.execute_reply.started": "2024-08-20T12:49:53.947440Z"
    },
    "executionInfo": {
     "elapsed": 483,
     "status": "ok",
     "timestamp": 1720166772015,
     "user": {
      "displayName": "Алексей Николаевич Черняков",
      "userId": "03502009944256768352"
     },
     "user_tz": -180
    },
    "id": "moPORUhepgE1",
    "tags": []
   },
   "outputs": [],
   "source": [
    "import pandas as pd\n",
    "import numpy as np\n",
    "import matplotlib.pyplot as plt\n",
    "import seaborn as sns\n",
    "\n",
    "from sklearn.model_selection import train_test_split\n",
    "\n",
    "import keras\n",
    "from keras.layers import *\n",
    "from keras.utils import to_categorical, plot_model\n",
    "from keras.regularizers import l2\n",
    "import keras_tuner"
   ]
  },
  {
   "cell_type": "markdown",
   "metadata": {
    "id": "QCaWcvO-npWm"
   },
   "source": [
    "### 2. Загрузите из keras.datasets набор данных cifar10."
   ]
  },
  {
   "cell_type": "code",
   "execution_count": 5,
   "metadata": {
    "colab": {
     "base_uri": "https://localhost:8080/"
    },
    "execution": {
     "iopub.execute_input": "2024-08-20T12:41:14.662242Z",
     "iopub.status.busy": "2024-08-20T12:41:14.661082Z",
     "iopub.status.idle": "2024-08-20T12:41:16.786363Z",
     "shell.execute_reply": "2024-08-20T12:41:16.785401Z",
     "shell.execute_reply.started": "2024-08-20T12:41:14.662199Z"
    },
    "executionInfo": {
     "elapsed": 15021,
     "status": "ok",
     "timestamp": 1720166352987,
     "user": {
      "displayName": "Алексей Николаевич Черняков",
      "userId": "03502009944256768352"
     },
     "user_tz": -180
    },
    "id": "V2KxTMtupgpK",
    "outputId": "7cb82aa4-ebb7-400c-d870-1fc72bf675a3",
    "tags": []
   },
   "outputs": [],
   "source": [
    "(X_train, y_train), (X_test, y_test) = keras.datasets.cifar10.load_data()"
   ]
  },
  {
   "cell_type": "code",
   "execution_count": 6,
   "metadata": {
    "execution": {
     "iopub.execute_input": "2024-08-20T12:41:16.791682Z",
     "iopub.status.busy": "2024-08-20T12:41:16.790834Z",
     "iopub.status.idle": "2024-08-20T12:41:16.859446Z",
     "shell.execute_reply": "2024-08-20T12:41:16.858649Z",
     "shell.execute_reply.started": "2024-08-20T12:41:16.791639Z"
    },
    "executionInfo": {
     "elapsed": 1131,
     "status": "ok",
     "timestamp": 1720166356559,
     "user": {
      "displayName": "Алексей Николаевич Черняков",
      "userId": "03502009944256768352"
     },
     "user_tz": -180
    },
    "id": "KWYRiW2sLKDx",
    "tags": []
   },
   "outputs": [],
   "source": [
    "X_train, X_valid, y_train, y_valid = train_test_split(X_train, y_train, test_size=0.1, random_state=0)"
   ]
  },
  {
   "cell_type": "markdown",
   "metadata": {
    "id": "LQl_OXyany2T",
    "jp-MarkdownHeadingCollapsed": true,
    "tags": []
   },
   "source": [
    "### 3. Ознакомьтесь с данными, используя различные методы. Сделайте выводы об этом наборе данных."
   ]
  },
  {
   "cell_type": "code",
   "execution_count": 5,
   "metadata": {
    "colab": {
     "base_uri": "https://localhost:8080/"
    },
    "execution": {
     "iopub.execute_input": "2024-07-08T08:26:10.132957Z",
     "iopub.status.busy": "2024-07-08T08:26:10.131900Z",
     "iopub.status.idle": "2024-07-08T08:26:10.142998Z",
     "shell.execute_reply": "2024-07-08T08:26:10.142258Z",
     "shell.execute_reply.started": "2024-07-08T08:26:10.132926Z"
    },
    "executionInfo": {
     "elapsed": 491,
     "status": "ok",
     "timestamp": 1720166369838,
     "user": {
      "displayName": "Алексей Николаевич Черняков",
      "userId": "03502009944256768352"
     },
     "user_tz": -180
    },
    "id": "vs_vLe-UFI9k",
    "outputId": "4d0a35cd-e0d1-4471-86e9-ae11a7f50178",
    "tags": []
   },
   "outputs": [
    {
     "name": "stdout",
     "output_type": "stream",
     "text": [
      "Размер тренировочных данных X_train: (45000, 32, 32, 3), y_train: (45000, 1)\n",
      "Размер валидационных данных X_valid : (5000, 32, 32, 3), y_valid: (5000, 1)\n",
      "Размер тестовых данных X_test : (10000, 32, 32, 3), y_test: (10000, 1)\n"
     ]
    }
   ],
   "source": [
    "print(f'Размер тренировочных данных X_train: {X_train.shape}, y_train: {y_train.shape}')\n",
    "print(f'Размер валидационных данных X_valid : {X_valid.shape}, y_valid: {y_valid.shape}')\n",
    "print(f'Размер тестовых данных X_test : {X_test.shape}, y_test: {y_test.shape}')"
   ]
  },
  {
   "cell_type": "code",
   "execution_count": 6,
   "metadata": {
    "colab": {
     "base_uri": "https://localhost:8080/"
    },
    "execution": {
     "iopub.execute_input": "2024-07-08T08:26:14.164469Z",
     "iopub.status.busy": "2024-07-08T08:26:14.163719Z",
     "iopub.status.idle": "2024-07-08T08:26:14.175025Z",
     "shell.execute_reply": "2024-07-08T08:26:14.174308Z",
     "shell.execute_reply.started": "2024-07-08T08:26:14.164440Z"
    },
    "executionInfo": {
     "elapsed": 481,
     "status": "ok",
     "timestamp": 1720166374565,
     "user": {
      "displayName": "Алексей Николаевич Черняков",
      "userId": "03502009944256768352"
     },
     "user_tz": -180
    },
    "id": "To-ctlkIF5u6",
    "outputId": "592f7f55-2e3d-4f99-c586-2d0460f325fa",
    "tags": []
   },
   "outputs": [
    {
     "name": "stdout",
     "output_type": "stream",
     "text": [
      "Размер первого изображения:  (32, 32, 3)\n"
     ]
    }
   ],
   "source": [
    "print('Размер первого изображения: ', X_train[0].shape)"
   ]
  },
  {
   "cell_type": "code",
   "execution_count": 7,
   "metadata": {
    "colab": {
     "base_uri": "https://localhost:8080/",
     "height": 160
    },
    "execution": {
     "iopub.execute_input": "2024-07-08T08:26:18.344054Z",
     "iopub.status.busy": "2024-07-08T08:26:18.343130Z",
     "iopub.status.idle": "2024-07-08T08:26:18.460350Z",
     "shell.execute_reply": "2024-07-08T08:26:18.459562Z",
     "shell.execute_reply.started": "2024-07-08T08:26:18.344025Z"
    },
    "executionInfo": {
     "elapsed": 485,
     "status": "ok",
     "timestamp": 1720166378281,
     "user": {
      "displayName": "Алексей Николаевич Черняков",
      "userId": "03502009944256768352"
     },
     "user_tz": -180
    },
    "id": "6PVWVAkmF_rF",
    "outputId": "4bc0fce0-e2f4-4ec0-f478-f74063e80f2a",
    "tags": []
   },
   "outputs": [
    {
     "name": "stdout",
     "output_type": "stream",
     "text": [
      "Первое изображение:\n"
     ]
    },
    {
     "data": {
      "image/png": "[encoded data removed]",
      "text/plain": [
       "<Figure size 100x100 with 1 Axes>"
      ]
     },
     "metadata": {},
     "output_type": "display_data"
    }
   ],
   "source": [
    "print('Первое изображение:')\n",
    "plt.subplots(figsize=(1,1))\n",
    "plt.imshow(X_train[0])\n",
    "plt.show()"
   ]
  },
  {
   "cell_type": "code",
   "execution_count": 8,
   "metadata": {
    "colab": {
     "base_uri": "https://localhost:8080/"
    },
    "execution": {
     "iopub.execute_input": "2024-07-08T08:26:21.709479Z",
     "iopub.status.busy": "2024-07-08T08:26:21.708442Z",
     "iopub.status.idle": "2024-07-08T08:26:21.722939Z",
     "shell.execute_reply": "2024-07-08T08:26:21.722099Z",
     "shell.execute_reply.started": "2024-07-08T08:26:21.709449Z"
    },
    "executionInfo": {
     "elapsed": 599,
     "status": "ok",
     "timestamp": 1720166380720,
     "user": {
      "displayName": "Алексей Николаевич Черняков",
      "userId": "03502009944256768352"
     },
     "user_tz": -180
    },
    "id": "_5Zh-wB3MYFV",
    "outputId": "f6e2396b-9bbb-4ead-cae2-bcc84c060369",
    "tags": []
   },
   "outputs": [
    {
     "name": "stdout",
     "output_type": "stream",
     "text": [
      "Количество классов в train:  10\n",
      "Количество классов в valid:  10\n",
      "Количество классов в test:  10\n"
     ]
    }
   ],
   "source": [
    "print('Количество классов в train: ', len(np.unique(y_train)))\n",
    "print('Количество классов в valid: ', len(np.unique(y_valid)))\n",
    "print('Количество классов в test: ', len(np.unique(y_test)))"
   ]
  },
  {
   "cell_type": "markdown",
   "metadata": {
    "id": "Z8xGHbRWM9Tl"
   },
   "source": [
    "__Ответ:__     \n",
    "Набор сотстоит из цветных изображений, размер 32*32 пиксилей. Кол-во изображений 50000 в тренировочном наборе и 10000 в тестовом наборе. Классов всего 10:    \n",
    "0 - airplane(самолет).   \n",
    "1\t- automobile(автомобиль).   \n",
    "2\t- bird(птица).   \n",
    "3\t- cat(кошки).   \n",
    "4\t- deer(олень).   \n",
    "5\t- dog(сабаки).   \n",
    "6\t- frog(лягушка).   \n",
    "7\t- horse(лошадь).   \n",
    "8\t- ship(корабль).   \n",
    "9\t- truck(грузовики).   "
   ]
  },
  {
   "cell_type": "markdown",
   "metadata": {
    "id": "rQ_RM2FXVExE"
   },
   "source": [
    "__Проверяем диссбаланс в выборках__"
   ]
  },
  {
   "cell_type": "code",
   "execution_count": 9,
   "metadata": {
    "execution": {
     "iopub.execute_input": "2024-07-05T11:03:51.949301Z",
     "iopub.status.busy": "2024-07-05T11:03:51.948513Z",
     "iopub.status.idle": "2024-07-05T11:03:51.967724Z",
     "shell.execute_reply": "2024-07-05T11:03:51.967117Z",
     "shell.execute_reply.started": "2024-07-05T11:03:51.949275Z"
    },
    "id": "nDc6vZrROmox"
   },
   "outputs": [],
   "source": [
    "name_class1, count_class1 = np.unique(y_train, return_counts=True)\n",
    "name_class2, count_class2 = np.unique(y_valid, return_counts=True)\n",
    "name_class3, count_class3 = np.unique(y_test, return_counts=True)"
   ]
  },
  {
   "cell_type": "code",
   "execution_count": 10,
   "metadata": {
    "colab": {
     "base_uri": "https://localhost:8080/",
     "height": 364
    },
    "execution": {
     "iopub.execute_input": "2024-07-05T11:03:53.719742Z",
     "iopub.status.busy": "2024-07-05T11:03:53.718900Z",
     "iopub.status.idle": "2024-07-05T11:03:54.082082Z",
     "shell.execute_reply": "2024-07-05T11:03:54.081413Z",
     "shell.execute_reply.started": "2024-07-05T11:03:53.719716Z"
    },
    "executionInfo": {
     "elapsed": 1152,
     "status": "ok",
     "timestamp": 1720089574535,
     "user": {
      "displayName": "Алексей Николаевич Черняков",
      "userId": "03502009944256768352"
     },
     "user_tz": -180
    },
    "id": "5qAEubCMTONn",
    "outputId": "0c223a75-c2ba-46fd-cff2-a25791063e8e"
   },
   "outputs": [
    {
     "data": {
      "image/png": "[encoded data removed]",
      "text/plain": [
       "<Figure size 1800x400 with 3 Axes>"
      ]
     },
     "metadata": {},
     "output_type": "display_data"
    }
   ],
   "source": [
    "fig, axs = plt.subplots(1, 3, figsize=(18, 4))\n",
    "\n",
    "axs[0].bar(name_class1, count_class1)\n",
    "axs[0].set_title('Диссбаланс по классам в y_train')\n",
    "axs[0].set_xlabel('Класс')\n",
    "axs[0].set_ylabel('Кол-во значений')\n",
    "\n",
    "axs[1].bar(name_class2, count_class2)\n",
    "axs[1].set_title('Диссбаланс по классам в y_valid')\n",
    "axs[1].set_xlabel('Класс')\n",
    "axs[1].set_ylabel('Кол-во значений')\n",
    "\n",
    "axs[2].bar(name_class3, count_class3)\n",
    "axs[2].set_title('Диссбаланс по классам в y_test')\n",
    "axs[2].set_xlabel('Класс')\n",
    "axs[2].set_ylabel('Кол-во значений')\n",
    "\n",
    "plt.show()"
   ]
  },
  {
   "cell_type": "markdown",
   "metadata": {
    "id": "EmsJxmIOn5X6",
    "jp-MarkdownHeadingCollapsed": true,
    "tags": []
   },
   "source": [
    "### 4. Проверьте набор данных на наличие пропусков и дубликатов."
   ]
  },
  {
   "cell_type": "code",
   "execution_count": 11,
   "metadata": {
    "colab": {
     "base_uri": "https://localhost:8080/"
    },
    "execution": {
     "iopub.execute_input": "2024-07-05T11:03:58.164812Z",
     "iopub.status.busy": "2024-07-05T11:03:58.164136Z",
     "iopub.status.idle": "2024-07-05T11:03:58.348927Z",
     "shell.execute_reply": "2024-07-05T11:03:58.348319Z",
     "shell.execute_reply.started": "2024-07-05T11:03:58.164786Z"
    },
    "executionInfo": {
     "elapsed": 486,
     "status": "ok",
     "timestamp": 1719995718160,
     "user": {
      "displayName": "Алексей Николаевич Черняков",
      "userId": "03502009944256768352"
     },
     "user_tz": -180
    },
    "id": "0aHm0XMZphy3",
    "outputId": "17d8b526-015e-4963-a928-12d45110477d"
   },
   "outputs": [
    {
     "name": "stdout",
     "output_type": "stream",
     "text": [
      "Кол-во пропусков в X_train: 0, y_train: 0\n",
      "Кол-во пропусков в X_test: 0, y_test: 0\n"
     ]
    }
   ],
   "source": [
    "print(f'Кол-во пропусков в X_train: {np.isnan(X_train).sum()}, y_train: {np.isnan(y_train).sum()}')\n",
    "print(f'Кол-во пропусков в X_test: {np.isnan(X_test).sum()}, y_test: {np.isnan(y_test).sum()}')"
   ]
  },
  {
   "cell_type": "code",
   "execution_count": 12,
   "metadata": {
    "colab": {
     "base_uri": "https://localhost:8080/"
    },
    "execution": {
     "iopub.execute_input": "2024-07-05T11:04:01.969297Z",
     "iopub.status.busy": "2024-07-05T11:04:01.968463Z",
     "iopub.status.idle": "2024-07-05T11:04:02.001639Z",
     "shell.execute_reply": "2024-07-05T11:04:02.000901Z",
     "shell.execute_reply.started": "2024-07-05T11:04:01.969271Z"
    },
    "executionInfo": {
     "elapsed": 316,
     "status": "ok",
     "timestamp": 1719995720936,
     "user": {
      "displayName": "Алексей Николаевич Черняков",
      "userId": "03502009944256768352"
     },
     "user_tz": -180
    },
    "id": "dDREs2TqnhiY",
    "outputId": "d1adea5d-0c4d-4773-823d-20bbcecb49b8"
   },
   "outputs": [
    {
     "data": {
      "text/plain": [
       "3072"
      ]
     },
     "execution_count": 12,
     "metadata": {},
     "output_type": "execute_result"
    }
   ],
   "source": [
    "len(X_train[0].flatten())"
   ]
  },
  {
   "cell_type": "code",
   "execution_count": null,
   "metadata": {
    "colab": {
     "base_uri": "https://localhost:8080/"
    },
    "executionInfo": {
     "elapsed": 341,
     "status": "ok",
     "timestamp": 1719995738922,
     "user": {
      "displayName": "Алексей Николаевич Черняков",
      "userId": "03502009944256768352"
     },
     "user_tz": -180
    },
    "id": "M1KF8ZufpbeZ",
    "outputId": "ade8eb59-e857-4acb-ad1c-3392854c20a0"
   },
   "outputs": [
    {
     "data": {
      "text/plain": [
       "(50000, 32, 32, 3)"
      ]
     },
     "execution_count": 11,
     "metadata": {},
     "output_type": "execute_result"
    }
   ],
   "source": [
    "X_train.shape"
   ]
  },
  {
   "cell_type": "code",
   "execution_count": null,
   "metadata": {
    "id": "ppUJdJDsoNbr"
   },
   "outputs": [],
   "source": [
    "df = pd.DataFrame(data= [X_train[indx].flatten() for indx in range(X_train.shape[0])],\n",
    "                  columns= [f\"{symb}_pix_{num}\" for symb in ['R', 'G', 'B'] for num in range(1024)])"
   ]
  },
  {
   "cell_type": "code",
   "execution_count": null,
   "metadata": {
    "colab": {
     "base_uri": "https://localhost:8080/",
     "height": 255
    },
    "executionInfo": {
     "elapsed": 322,
     "status": "ok",
     "timestamp": 1719997227759,
     "user": {
      "displayName": "Алексей Николаевич Черняков",
      "userId": "03502009944256768352"
     },
     "user_tz": -180
    },
    "id": "xplQgftBq7gx",
    "outputId": "77ed9093-ab2f-4b8e-9bc6-ecea25f821ce"
   },
   "outputs": [
    {
     "data": {
      "application/vnd.google.colaboratory.intrinsic+json": {
       "type": "dataframe",
       "variable_name": "df"
      },
      "text/html": [
       "\n",
       "  <div id=\"df-71c64758-d749-4e39-aa6b-dbcd8de3cc7b\" class=\"colab-df-container\">\n",
       "    <div>\n",
       "<style scoped>\n",
       "    .dataframe tbody tr th:only-of-type {\n",
       "        vertical-align: middle;\n",
       "    }\n",
       "\n",
       "    .dataframe tbody tr th {\n",
       "        vertical-align: top;\n",
       "    }\n",
       "\n",
       "    .dataframe thead th {\n",
       "        text-align: right;\n",
       "    }\n",
       "</style>\n",
       "<table border=\"1\" class=\"dataframe\">\n",
       "  <thead>\n",
       "    <tr style=\"text-align: right;\">\n",
       "      <th></th>\n",
       "      <th>R_pix_0</th>\n",
       "      <th>R_pix_1</th>\n",
       "      <th>R_pix_2</th>\n",
       "      <th>R_pix_3</th>\n",
       "      <th>R_pix_4</th>\n",
       "      <th>R_pix_5</th>\n",
       "      <th>R_pix_6</th>\n",
       "      <th>R_pix_7</th>\n",
       "      <th>R_pix_8</th>\n",
       "      <th>R_pix_9</th>\n",
       "      <th>...</th>\n",
       "      <th>B_pix_1014</th>\n",
       "      <th>B_pix_1015</th>\n",
       "      <th>B_pix_1016</th>\n",
       "      <th>B_pix_1017</th>\n",
       "      <th>B_pix_1018</th>\n",
       "      <th>B_pix_1019</th>\n",
       "      <th>B_pix_1020</th>\n",
       "      <th>B_pix_1021</th>\n",
       "      <th>B_pix_1022</th>\n",
       "      <th>B_pix_1023</th>\n",
       "    </tr>\n",
       "  </thead>\n",
       "  <tbody>\n",
       "    <tr>\n",
       "      <th>0</th>\n",
       "      <td>59</td>\n",
       "      <td>62</td>\n",
       "      <td>63</td>\n",
       "      <td>43</td>\n",
       "      <td>46</td>\n",
       "      <td>45</td>\n",
       "      <td>50</td>\n",
       "      <td>48</td>\n",
       "      <td>43</td>\n",
       "      <td>68</td>\n",
       "      <td>...</td>\n",
       "      <td>104</td>\n",
       "      <td>216</td>\n",
       "      <td>184</td>\n",
       "      <td>140</td>\n",
       "      <td>151</td>\n",
       "      <td>118</td>\n",
       "      <td>84</td>\n",
       "      <td>123</td>\n",
       "      <td>92</td>\n",
       "      <td>72</td>\n",
       "    </tr>\n",
       "    <tr>\n",
       "      <th>1</th>\n",
       "      <td>154</td>\n",
       "      <td>177</td>\n",
       "      <td>187</td>\n",
       "      <td>126</td>\n",
       "      <td>137</td>\n",
       "      <td>136</td>\n",
       "      <td>105</td>\n",
       "      <td>104</td>\n",
       "      <td>95</td>\n",
       "      <td>102</td>\n",
       "      <td>...</td>\n",
       "      <td>136</td>\n",
       "      <td>143</td>\n",
       "      <td>133</td>\n",
       "      <td>139</td>\n",
       "      <td>143</td>\n",
       "      <td>134</td>\n",
       "      <td>142</td>\n",
       "      <td>143</td>\n",
       "      <td>133</td>\n",
       "      <td>144</td>\n",
       "    </tr>\n",
       "    <tr>\n",
       "      <th>2</th>\n",
       "      <td>255</td>\n",
       "      <td>255</td>\n",
       "      <td>255</td>\n",
       "      <td>253</td>\n",
       "      <td>253</td>\n",
       "      <td>253</td>\n",
       "      <td>253</td>\n",
       "      <td>253</td>\n",
       "      <td>253</td>\n",
       "      <td>253</td>\n",
       "      <td>...</td>\n",
       "      <td>79</td>\n",
       "      <td>78</td>\n",
       "      <td>85</td>\n",
       "      <td>83</td>\n",
       "      <td>79</td>\n",
       "      <td>85</td>\n",
       "      <td>83</td>\n",
       "      <td>80</td>\n",
       "      <td>86</td>\n",
       "      <td>84</td>\n",
       "    </tr>\n",
       "    <tr>\n",
       "      <th>3</th>\n",
       "      <td>28</td>\n",
       "      <td>25</td>\n",
       "      <td>10</td>\n",
       "      <td>37</td>\n",
       "      <td>34</td>\n",
       "      <td>19</td>\n",
       "      <td>38</td>\n",
       "      <td>35</td>\n",
       "      <td>20</td>\n",
       "      <td>42</td>\n",
       "      <td>...</td>\n",
       "      <td>38</td>\n",
       "      <td>54</td>\n",
       "      <td>47</td>\n",
       "      <td>28</td>\n",
       "      <td>63</td>\n",
       "      <td>56</td>\n",
       "      <td>37</td>\n",
       "      <td>72</td>\n",
       "      <td>65</td>\n",
       "      <td>46</td>\n",
       "    </tr>\n",
       "    <tr>\n",
       "      <th>4</th>\n",
       "      <td>170</td>\n",
       "      <td>180</td>\n",
       "      <td>198</td>\n",
       "      <td>168</td>\n",
       "      <td>178</td>\n",
       "      <td>196</td>\n",
       "      <td>177</td>\n",
       "      <td>185</td>\n",
       "      <td>203</td>\n",
       "      <td>183</td>\n",
       "      <td>...</td>\n",
       "      <td>78</td>\n",
       "      <td>75</td>\n",
       "      <td>79</td>\n",
       "      <td>82</td>\n",
       "      <td>71</td>\n",
       "      <td>75</td>\n",
       "      <td>78</td>\n",
       "      <td>73</td>\n",
       "      <td>77</td>\n",
       "      <td>80</td>\n",
       "    </tr>\n",
       "  </tbody>\n",
       "</table>\n",
       "<p>5 rows × 3072 columns</p>\n",
       "</div>\n",
       "    <div class=\"colab-df-buttons\">\n",
       "\n",
       "  <div class=\"colab-df-container\">\n",
       "    <button class=\"colab-df-convert\" onclick=\"convertToInteractive('df-71c64758-d749-4e39-aa6b-dbcd8de3cc7b')\"\n",
       "            title=\"Convert this dataframe to an interactive table.\"\n",
       "            style=\"display:none;\">\n",
       "\n",
       "  <svg xmlns=\"http://www.w3.org/2000/svg\" height=\"24px\" viewBox=\"0 -960 960 960\">\n",
       "    <path d=\"M120-120v-720h720v720H120Zm60-500h600v-160H180v160Zm220 220h160v-160H400v160Zm0 220h160v-160H400v160ZM180-400h160v-160H180v160Zm440 0h160v-160H620v160ZM180-180h160v-160H180v160Zm440 0h160v-160H620v160Z\"/>\n",
       "  </svg>\n",
       "    </button>\n",
       "\n",
       "  <style>\n",
       "    .colab-df-container {\n",
       "      display:flex;\n",
       "      gap: 12px;\n",
       "    }\n",
       "\n",
       "    .colab-df-convert {\n",
       "      background-color: #E8F0FE;\n",
       "      border: none;\n",
       "      border-radius: 50%;\n",
       "      cursor: pointer;\n",
       "      display: none;\n",
       "      fill: #1967D2;\n",
       "      height: 32px;\n",
       "      padding: 0 0 0 0;\n",
       "      width: 32px;\n",
       "    }\n",
       "\n",
       "    .colab-df-convert:hover {\n",
       "      background-color: #E2EBFA;\n",
       "      box-shadow: 0px 1px 2px rgba(60, 64, 67, 0.3), 0px 1px 3px 1px rgba(60, 64, 67, 0.15);\n",
       "      fill: #174EA6;\n",
       "    }\n",
       "\n",
       "    .colab-df-buttons div {\n",
       "      margin-bottom: 4px;\n",
       "    }\n",
       "\n",
       "    [theme=dark] .colab-df-convert {\n",
       "      background-color: #3B4455;\n",
       "      fill: #D2E3FC;\n",
       "    }\n",
       "\n",
       "    [theme=dark] .colab-df-convert:hover {\n",
       "      background-color: #434B5C;\n",
       "      box-shadow: 0px 1px 3px 1px rgba(0, 0, 0, 0.15);\n",
       "      filter: drop-shadow(0px 1px 2px rgba(0, 0, 0, 0.3));\n",
       "      fill: #FFFFFF;\n",
       "    }\n",
       "  </style>\n",
       "\n",
       "    <script>\n",
       "      const buttonEl =\n",
       "        document.querySelector('#df-71c64758-d749-4e39-aa6b-dbcd8de3cc7b button.colab-df-convert');\n",
       "      buttonEl.style.display =\n",
       "        google.colab.kernel.accessAllowed ? 'block' : 'none';\n",
       "\n",
       "      async function convertToInteractive(key) {\n",
       "        const element = document.querySelector('#df-71c64758-d749-4e39-aa6b-dbcd8de3cc7b');\n",
       "        const dataTable =\n",
       "          await google.colab.kernel.invokeFunction('convertToInteractive',\n",
       "                                                    [key], {});\n",
       "        if (!dataTable) return;\n",
       "\n",
       "        const docLinkHtml = 'Like what you see? Visit the ' +\n",
       "          '<a target=\"_blank\" href=https://colab.research.google.com/notebooks/data_table.ipynb>data table notebook</a>'\n",
       "          + ' to learn more about interactive tables.';\n",
       "        element.innerHTML = '';\n",
       "        dataTable['output_type'] = 'display_data';\n",
       "        await google.colab.output.renderOutput(dataTable, element);\n",
       "        const docLink = document.createElement('div');\n",
       "        docLink.innerHTML = docLinkHtml;\n",
       "        element.appendChild(docLink);\n",
       "      }\n",
       "    </script>\n",
       "  </div>\n",
       "\n",
       "\n",
       "<div id=\"df-ff0dc833-1ceb-4b02-9574-a6f74fa755b3\">\n",
       "  <button class=\"colab-df-quickchart\" onclick=\"quickchart('df-ff0dc833-1ceb-4b02-9574-a6f74fa755b3')\"\n",
       "            title=\"Suggest charts\"\n",
       "            style=\"display:none;\">\n",
       "\n",
       "<svg xmlns=\"http://www.w3.org/2000/svg\" height=\"24px\"viewBox=\"0 0 24 24\"\n",
       "     width=\"24px\">\n",
       "    <g>\n",
       "        <path d=\"M19 3H5c-1.1 0-2 .9-2 2v14c0 1.1.9 2 2 2h14c1.1 0 2-.9 2-2V5c0-1.1-.9-2-2-2zM9 17H7v-7h2v7zm4 0h-2V7h2v10zm4 0h-2v-4h2v4z\"/>\n",
       "    </g>\n",
       "</svg>\n",
       "  </button>\n",
       "\n",
       "<style>\n",
       "  .colab-df-quickchart {\n",
       "      --bg-color: #E8F0FE;\n",
       "      --fill-color: #1967D2;\n",
       "      --hover-bg-color: #E2EBFA;\n",
       "      --hover-fill-color: #174EA6;\n",
       "      --disabled-fill-color: #AAA;\n",
       "      --disabled-bg-color: #DDD;\n",
       "  }\n",
       "\n",
       "  [theme=dark] .colab-df-quickchart {\n",
       "      --bg-color: #3B4455;\n",
       "      --fill-color: #D2E3FC;\n",
       "      --hover-bg-color: #434B5C;\n",
       "      --hover-fill-color: #FFFFFF;\n",
       "      --disabled-bg-color: #3B4455;\n",
       "      --disabled-fill-color: #666;\n",
       "  }\n",
       "\n",
       "  .colab-df-quickchart {\n",
       "    background-color: var(--bg-color);\n",
       "    border: none;\n",
       "    border-radius: 50%;\n",
       "    cursor: pointer;\n",
       "    display: none;\n",
       "    fill: var(--fill-color);\n",
       "    height: 32px;\n",
       "    padding: 0;\n",
       "    width: 32px;\n",
       "  }\n",
       "\n",
       "  .colab-df-quickchart:hover {\n",
       "    background-color: var(--hover-bg-color);\n",
       "    box-shadow: 0 1px 2px rgba(60, 64, 67, 0.3), 0 1px 3px 1px rgba(60, 64, 67, 0.15);\n",
       "    fill: var(--button-hover-fill-color);\n",
       "  }\n",
       "\n",
       "  .colab-df-quickchart-complete:disabled,\n",
       "  .colab-df-quickchart-complete:disabled:hover {\n",
       "    background-color: var(--disabled-bg-color);\n",
       "    fill: var(--disabled-fill-color);\n",
       "    box-shadow: none;\n",
       "  }\n",
       "\n",
       "  .colab-df-spinner {\n",
       "    border: 2px solid var(--fill-color);\n",
       "    border-color: transparent;\n",
       "    border-bottom-color: var(--fill-color);\n",
       "    animation:\n",
       "      spin 1s steps(1) infinite;\n",
       "  }\n",
       "\n",
       "  @keyframes spin {\n",
       "    0% {\n",
       "      border-color: transparent;\n",
       "      border-bottom-color: var(--fill-color);\n",
       "      border-left-color: var(--fill-color);\n",
       "    }\n",
       "    20% {\n",
       "      border-color: transparent;\n",
       "      border-left-color: var(--fill-color);\n",
       "      border-top-color: var(--fill-color);\n",
       "    }\n",
       "    30% {\n",
       "      border-color: transparent;\n",
       "      border-left-color: var(--fill-color);\n",
       "      border-top-color: var(--fill-color);\n",
       "      border-right-color: var(--fill-color);\n",
       "    }\n",
       "    40% {\n",
       "      border-color: transparent;\n",
       "      border-right-color: var(--fill-color);\n",
       "      border-top-color: var(--fill-color);\n",
       "    }\n",
       "    60% {\n",
       "      border-color: transparent;\n",
       "      border-right-color: var(--fill-color);\n",
       "    }\n",
       "    80% {\n",
       "      border-color: transparent;\n",
       "      border-right-color: var(--fill-color);\n",
       "      border-bottom-color: var(--fill-color);\n",
       "    }\n",
       "    90% {\n",
       "      border-color: transparent;\n",
       "      border-bottom-color: var(--fill-color);\n",
       "    }\n",
       "  }\n",
       "</style>\n",
       "\n",
       "  <script>\n",
       "    async function quickchart(key) {\n",
       "      const quickchartButtonEl =\n",
       "        document.querySelector('#' + key + ' button');\n",
       "      quickchartButtonEl.disabled = true;  // To prevent multiple clicks.\n",
       "      quickchartButtonEl.classList.add('colab-df-spinner');\n",
       "      try {\n",
       "        const charts = await google.colab.kernel.invokeFunction(\n",
       "            'suggestCharts', [key], {});\n",
       "      } catch (error) {\n",
       "        console.error('Error during call to suggestCharts:', error);\n",
       "      }\n",
       "      quickchartButtonEl.classList.remove('colab-df-spinner');\n",
       "      quickchartButtonEl.classList.add('colab-df-quickchart-complete');\n",
       "    }\n",
       "    (() => {\n",
       "      let quickchartButtonEl =\n",
       "        document.querySelector('#df-ff0dc833-1ceb-4b02-9574-a6f74fa755b3 button');\n",
       "      quickchartButtonEl.style.display =\n",
       "        google.colab.kernel.accessAllowed ? 'block' : 'none';\n",
       "    })();\n",
       "  </script>\n",
       "</div>\n",
       "    </div>\n",
       "  </div>\n"
      ],
      "text/plain": [
       "   R_pix_0  R_pix_1  R_pix_2  R_pix_3  R_pix_4  R_pix_5  R_pix_6  R_pix_7  \\\n",
       "0       59       62       63       43       46       45       50       48   \n",
       "1      154      177      187      126      137      136      105      104   \n",
       "2      255      255      255      253      253      253      253      253   \n",
       "3       28       25       10       37       34       19       38       35   \n",
       "4      170      180      198      168      178      196      177      185   \n",
       "\n",
       "   R_pix_8  R_pix_9  ...  B_pix_1014  B_pix_1015  B_pix_1016  B_pix_1017  \\\n",
       "0       43       68  ...         104         216         184         140   \n",
       "1       95      102  ...         136         143         133         139   \n",
       "2      253      253  ...          79          78          85          83   \n",
       "3       20       42  ...          38          54          47          28   \n",
       "4      203      183  ...          78          75          79          82   \n",
       "\n",
       "   B_pix_1018  B_pix_1019  B_pix_1020  B_pix_1021  B_pix_1022  B_pix_1023  \n",
       "0         151         118          84         123          92          72  \n",
       "1         143         134         142         143         133         144  \n",
       "2          79          85          83          80          86          84  \n",
       "3          63          56          37          72          65          46  \n",
       "4          71          75          78          73          77          80  \n",
       "\n",
       "[5 rows x 3072 columns]"
      ]
     },
     "execution_count": 13,
     "metadata": {},
     "output_type": "execute_result"
    }
   ],
   "source": [
    "df.head()"
   ]
  },
  {
   "cell_type": "code",
   "execution_count": null,
   "metadata": {
    "colab": {
     "base_uri": "https://localhost:8080/"
    },
    "executionInfo": {
     "elapsed": 5043,
     "status": "ok",
     "timestamp": 1719997248846,
     "user": {
      "displayName": "Алексей Николаевич Черняков",
      "userId": "03502009944256768352"
     },
     "user_tz": -180
    },
    "id": "RL-3AbTDlwis",
    "outputId": "8488d27e-cad7-491f-a327-0904d65ca516"
   },
   "outputs": [
    {
     "name": "stdout",
     "output_type": "stream",
     "text": [
      "Кол-во дубликатов:  0\n"
     ]
    }
   ],
   "source": [
    "print('Кол-во дубликатов: ', df.duplicated().sum())"
   ]
  },
  {
   "cell_type": "markdown",
   "metadata": {
    "id": "onw6kEMyn9En",
    "jp-MarkdownHeadingCollapsed": true,
    "tags": []
   },
   "source": [
    "### 5. Отрисуйте десять примеров с различными метками классов."
   ]
  },
  {
   "cell_type": "code",
   "execution_count": null,
   "metadata": {
    "id": "oJjzVUaWyYXc"
   },
   "outputs": [],
   "source": [
    "class_name = {\n",
    "    0: 'airplane',\n",
    "    1: 'automobile',\n",
    "    2: 'bird',\n",
    "    3: 'cat',\n",
    "    4: 'deer',\n",
    "    5: 'dog',\n",
    "    6: 'frog',\n",
    "    7: 'horse',\n",
    "    8: 'ship',\n",
    "    9: 'truck',\n",
    "}"
   ]
  },
  {
   "cell_type": "code",
   "execution_count": null,
   "metadata": {
    "colab": {
     "base_uri": "https://localhost:8080/"
    },
    "executionInfo": {
     "elapsed": 399,
     "status": "ok",
     "timestamp": 1719999690702,
     "user": {
      "displayName": "Алексей Николаевич Черняков",
      "userId": "03502009944256768352"
     },
     "user_tz": -180
    },
    "id": "t3VfTRDD7dXN",
    "outputId": "d939edbf-fc45-43ed-d862-ce47c6e85fc1"
   },
   "outputs": [
    {
     "data": {
      "text/plain": [
       "[29, 4, 6, 9, 3, 27, 0, 7, 8, 1]"
      ]
     },
     "execution_count": 42,
     "metadata": {},
     "output_type": "execute_result"
    }
   ],
   "source": [
    "ind_class = []\n",
    "for num_class in range(10):\n",
    "  ind_class.append(np.where(y_train == num_class)[0][0])\n",
    "ind_class"
   ]
  },
  {
   "cell_type": "code",
   "execution_count": null,
   "metadata": {
    "colab": {
     "base_uri": "https://localhost:8080/",
     "height": 453
    },
    "executionInfo": {
     "elapsed": 2028,
     "status": "ok",
     "timestamp": 1720000770063,
     "user": {
      "displayName": "Алексей Николаевич Черняков",
      "userId": "03502009944256768352"
     },
     "user_tz": -180
    },
    "id": "_24-EMfnFZPa",
    "outputId": "8fc3f245-c60e-4c53-f990-804eea8a7a75"
   },
   "outputs": [
    {
     "data": {
      "image/png": "[encoded data removed]",
      "text/plain": [
       "<Figure size 1200x500 with 10 Axes>"
      ]
     },
     "metadata": {},
     "output_type": "display_data"
    }
   ],
   "source": [
    "fig, axs = plt.subplots(2, 5, figsize=(12, 5))\n",
    "\n",
    "for indx1, indx2 in enumerate(ind_class[:5]):\n",
    "  axs[0, indx1].imshow(X_train[indx2])\n",
    "  axs[0, indx1].set_title(f'{y_train[indx2][0]}-class: {class_name[y_train[indx2][0]]}')\n",
    "\n",
    "for indx1, indx2 in enumerate(ind_class[5:]):\n",
    "  axs[1, indx1].imshow(X_train[indx2])\n",
    "  axs[1, indx1].set_title(f'{y_train[indx2][0]}-class: {class_name[y_train[indx2][0]]}')\n",
    "\n",
    "plt.show()"
   ]
  },
  {
   "cell_type": "markdown",
   "metadata": {
    "id": "zUIw_DXAoAtc",
    "tags": []
   },
   "source": [
    "### 6. Подумайте, как стоит преобразовать входные и выходные данные, чтобы нейронная сеть могла лучше с ними работать. Выполните эти преобразования."
   ]
  },
  {
   "cell_type": "code",
   "execution_count": 7,
   "metadata": {
    "execution": {
     "iopub.execute_input": "2024-08-20T12:41:21.526535Z",
     "iopub.status.busy": "2024-08-20T12:41:21.525173Z",
     "iopub.status.idle": "2024-08-20T12:41:22.019975Z",
     "shell.execute_reply": "2024-08-20T12:41:22.019164Z",
     "shell.execute_reply.started": "2024-08-20T12:41:21.526486Z"
    },
    "executionInfo": {
     "elapsed": 1199,
     "status": "ok",
     "timestamp": 1720169833496,
     "user": {
      "displayName": "Алексей Николаевич Черняков",
      "userId": "03502009944256768352"
     },
     "user_tz": -180
    },
    "id": "xNr8KIrPpjGO",
    "tags": []
   },
   "outputs": [],
   "source": [
    "X_train_norm = X_train / 255\n",
    "X_valid_norm = X_valid / 255\n",
    "X_test_norm = X_test / 255\n",
    "\n",
    "y_train_cat = to_categorical(y_train, 10)\n",
    "y_valid_cat = to_categorical(y_valid, 10)\n",
    "y_test_cat = to_categorical(y_test, 10)"
   ]
  },
  {
   "cell_type": "markdown",
   "metadata": {
    "id": "cW58d6QooGj-",
    "tags": []
   },
   "source": [
    "### 7. Выберите архитектуру нейронной сети в 1–3 вариантах."
   ]
  },
  {
   "cell_type": "code",
   "execution_count": 7,
   "metadata": {
    "execution": {
     "iopub.execute_input": "2024-08-20T10:05:45.956725Z",
     "iopub.status.busy": "2024-08-20T10:05:45.955814Z",
     "iopub.status.idle": "2024-08-20T10:05:46.013243Z",
     "shell.execute_reply": "2024-08-20T10:05:46.012209Z",
     "shell.execute_reply.started": "2024-08-20T10:05:45.956680Z"
    },
    "executionInfo": {
     "elapsed": 460,
     "status": "ok",
     "timestamp": 1720166808123,
     "user": {
      "displayName": "Алексей Николаевич Черняков",
      "userId": "03502009944256768352"
     },
     "user_tz": -180
    },
    "id": "h40KTj2udXIH",
    "tags": []
   },
   "outputs": [],
   "source": [
    "input_shape = (32, 32, 3)"
   ]
  },
  {
   "cell_type": "markdown",
   "metadata": {
    "id": "Ana80lu7HEBs",
    "jp-MarkdownHeadingCollapsed": true,
    "tags": []
   },
   "source": [
    "#### __Модель 1__"
   ]
  },
  {
   "cell_type": "markdown",
   "metadata": {
    "id": "kgpLvQEXgWG5",
    "tags": []
   },
   "source": [
    "##### Архитектура модели 1"
   ]
  },
  {
   "cell_type": "code",
   "execution_count": 12,
   "metadata": {
    "execution": {
     "iopub.execute_input": "2024-08-20T10:09:35.268223Z",
     "iopub.status.busy": "2024-08-20T10:09:35.267125Z",
     "iopub.status.idle": "2024-08-20T10:09:35.324111Z",
     "shell.execute_reply": "2024-08-20T10:09:35.323155Z",
     "shell.execute_reply.started": "2024-08-20T10:09:35.268178Z"
    },
    "id": "9KugTha8pjo5",
    "tags": []
   },
   "outputs": [],
   "source": [
    "model_1 = keras.Sequential([\n",
    "    keras.Input(shape=input_shape),\n",
    "    Flatten(),\n",
    "    Dense(700, activation='relu'),\n",
    "    Dense(10, activation='softmax'),\n",
    "])\n",
    "\n",
    "model_1.compile(optimizer='adam',\n",
    "                     loss='categorical_crossentropy',\n",
    "                     metrics=['accuracy'])"
   ]
  },
  {
   "cell_type": "markdown",
   "metadata": {
    "id": "rLlv_O4_gZzT"
   },
   "source": [
    "##### Обучение модели 1"
   ]
  },
  {
   "cell_type": "code",
   "execution_count": 10,
   "metadata": {
    "colab": {
     "base_uri": "https://localhost:8080/"
    },
    "execution": {
     "iopub.execute_input": "2024-08-20T10:06:35.154154Z",
     "iopub.status.busy": "2024-08-20T10:06:35.152803Z",
     "iopub.status.idle": "2024-08-20T10:07:11.756325Z",
     "shell.execute_reply": "2024-08-20T10:07:11.755426Z",
     "shell.execute_reply.started": "2024-08-20T10:06:35.154095Z"
    },
    "executionInfo": {
     "elapsed": 324477,
     "status": "ok",
     "timestamp": 1720091656620,
     "user": {
      "displayName": "Алексей Николаевич Черняков",
      "userId": "03502009944256768352"
     },
     "user_tz": -180
    },
    "id": "hXaaDARoesS3",
    "outputId": "c8a67d39-eed1-4a9b-a063-7673aad714a0",
    "tags": []
   },
   "outputs": [
    {
     "name": "stdout",
     "output_type": "stream",
     "text": [
      "Epoch 1/10\n",
      "1407/1407 [==============================] - 4s 3ms/step - loss: 1.5390 - accuracy: 0.4517 - val_loss: 1.5748 - val_accuracy: 0.4286\n",
      "Epoch 2/10\n",
      "1407/1407 [==============================] - 4s 3ms/step - loss: 1.5143 - accuracy: 0.4630 - val_loss: 1.5560 - val_accuracy: 0.4430\n",
      "Epoch 3/10\n",
      "1407/1407 [==============================] - 4s 3ms/step - loss: 1.5014 - accuracy: 0.4656 - val_loss: 1.5195 - val_accuracy: 0.4646\n",
      "Epoch 4/10\n",
      "1407/1407 [==============================] - 4s 3ms/step - loss: 1.4837 - accuracy: 0.4735 - val_loss: 1.5323 - val_accuracy: 0.4500\n",
      "Epoch 5/10\n",
      "1407/1407 [==============================] - 4s 3ms/step - loss: 1.4703 - accuracy: 0.4760 - val_loss: 1.5071 - val_accuracy: 0.4536\n",
      "Epoch 6/10\n",
      "1407/1407 [==============================] - 4s 3ms/step - loss: 1.4555 - accuracy: 0.4828 - val_loss: 1.4880 - val_accuracy: 0.4622\n",
      "Epoch 7/10\n",
      "1407/1407 [==============================] - 4s 3ms/step - loss: 1.4455 - accuracy: 0.4851 - val_loss: 1.5015 - val_accuracy: 0.4614\n",
      "Epoch 8/10\n",
      "1407/1407 [==============================] - 4s 3ms/step - loss: 1.4340 - accuracy: 0.4896 - val_loss: 1.5715 - val_accuracy: 0.4480\n",
      "Epoch 9/10\n",
      "1407/1407 [==============================] - 4s 3ms/step - loss: 1.4236 - accuracy: 0.4930 - val_loss: 1.5301 - val_accuracy: 0.4492\n",
      "Epoch 10/10\n",
      "1407/1407 [==============================] - 3s 2ms/step - loss: 1.4109 - accuracy: 0.4978 - val_loss: 1.4783 - val_accuracy: 0.4662\n",
      "CPU times: user 51.7 s, sys: 6.49 s, total: 58.2 s\n",
      "Wall time: 36.6 s\n"
     ]
    }
   ],
   "source": [
    "%%time\n",
    "\n",
    "history_model_1 = model_1.fit(X_train_norm, y_train_cat,\n",
    "                              batch_size=32, epochs=10,\n",
    "                              validation_data=(X_valid_norm, y_valid_cat))"
   ]
  },
  {
   "cell_type": "markdown",
   "metadata": {
    "id": "Wh_TxxoMZGfk",
    "tags": []
   },
   "source": [
    "#### __Модель 2__"
   ]
  },
  {
   "cell_type": "markdown",
   "metadata": {
    "id": "IQZ6m9G3gEj0",
    "tags": []
   },
   "source": [
    "##### Архитектура модели 2"
   ]
  },
  {
   "cell_type": "code",
   "execution_count": 13,
   "metadata": {
    "colab": {
     "base_uri": "https://localhost:8080/"
    },
    "execution": {
     "iopub.execute_input": "2024-08-20T10:10:48.068586Z",
     "iopub.status.busy": "2024-08-20T10:10:48.067273Z",
     "iopub.status.idle": "2024-08-20T10:10:48.127364Z",
     "shell.execute_reply": "2024-08-20T10:10:48.126571Z",
     "shell.execute_reply.started": "2024-08-20T10:10:48.068534Z"
    },
    "executionInfo": {
     "elapsed": 319,
     "status": "ok",
     "timestamp": 1720091733783,
     "user": {
      "displayName": "Алексей Николаевич Черняков",
      "userId": "03502009944256768352"
     },
     "user_tz": -180
    },
    "id": "zFZUZiCwH8Kn",
    "outputId": "cd6692f2-e283-40f9-9fa3-abdb6c739aba"
   },
   "outputs": [
    {
     "name": "stdout",
     "output_type": "stream",
     "text": [
      "Model: \"sequential_2\"\n",
      "_________________________________________________________________\n",
      " Layer (type)                Output Shape              Param #   \n",
      "=================================================================\n",
      " flatten_2 (Flatten)         (None, 3072)              0         \n",
      "                                                                 \n",
      " dense_4 (Dense)             (None, 700)               2151100   \n",
      "                                                                 \n",
      " dropout (Dropout)           (None, 700)               0         \n",
      "                                                                 \n",
      " dense_5 (Dense)             (None, 10)                7010      \n",
      "                                                                 \n",
      "=================================================================\n",
      "Total params: 2,158,110\n",
      "Trainable params: 2,158,110\n",
      "Non-trainable params: 0\n",
      "_________________________________________________________________\n"
     ]
    }
   ],
   "source": [
    "model_2 = keras.Sequential([keras.Input(shape=input_shape)])\n",
    "model_2.add(Flatten())\n",
    "model_2.add(Dense(700, activation='relu'))\n",
    "model_2.add(Dropout(0.8))\n",
    "model_2.add(Dense(10, activation='softmax'))\n",
    "\n",
    "model_2.summary()"
   ]
  },
  {
   "cell_type": "code",
   "execution_count": 14,
   "metadata": {
    "execution": {
     "iopub.execute_input": "2024-08-20T10:10:50.522675Z",
     "iopub.status.busy": "2024-08-20T10:10:50.521694Z",
     "iopub.status.idle": "2024-08-20T10:10:50.543737Z",
     "shell.execute_reply": "2024-08-20T10:10:50.542937Z",
     "shell.execute_reply.started": "2024-08-20T10:10:50.522640Z"
    },
    "id": "dSG7DhMIZrXd"
   },
   "outputs": [],
   "source": [
    "optimizer = keras.optimizers.Adam(learning_rate=0.001)\n",
    "model_2.compile(loss='categorical_crossentropy', optimizer=optimizer, metrics=['accuracy'])"
   ]
  },
  {
   "cell_type": "markdown",
   "metadata": {
    "id": "9dO9JTXegOHT",
    "jp-MarkdownHeadingCollapsed": true,
    "tags": []
   },
   "source": [
    "##### Обучение модели 2"
   ]
  },
  {
   "cell_type": "code",
   "execution_count": 15,
   "metadata": {
    "colab": {
     "base_uri": "https://localhost:8080/"
    },
    "execution": {
     "iopub.execute_input": "2024-08-20T10:10:53.200888Z",
     "iopub.status.busy": "2024-08-20T10:10:53.199905Z",
     "iopub.status.idle": "2024-08-20T10:11:11.504358Z",
     "shell.execute_reply": "2024-08-20T10:11:11.503473Z",
     "shell.execute_reply.started": "2024-08-20T10:10:53.200847Z"
    },
    "executionInfo": {
     "elapsed": 324813,
     "status": "ok",
     "timestamp": 1720092243526,
     "user": {
      "displayName": "Алексей Николаевич Черняков",
      "userId": "03502009944256768352"
     },
     "user_tz": -180
    },
    "id": "v0JET6C-apTO",
    "outputId": "6aef0133-90ce-4c46-e0a2-e0906a8b2f9e"
   },
   "outputs": [
    {
     "name": "stdout",
     "output_type": "stream",
     "text": [
      "Epoch 1/5\n",
      "1407/1407 [==============================] - 4s 3ms/step - loss: 2.2885 - accuracy: 0.1270 - val_loss: 2.1704 - val_accuracy: 0.1992\n",
      "Epoch 2/5\n",
      "1407/1407 [==============================] - 3s 2ms/step - loss: 2.2335 - accuracy: 0.1313 - val_loss: 2.1268 - val_accuracy: 0.1994\n",
      "Epoch 3/5\n",
      "1407/1407 [==============================] - 3s 2ms/step - loss: 2.2226 - accuracy: 0.1355 - val_loss: 2.1203 - val_accuracy: 0.2230\n",
      "Epoch 4/5\n",
      "1407/1407 [==============================] - 3s 2ms/step - loss: 2.2153 - accuracy: 0.1363 - val_loss: 2.1056 - val_accuracy: 0.2410\n",
      "Epoch 5/5\n",
      "1407/1407 [==============================] - 3s 2ms/step - loss: 2.2153 - accuracy: 0.1371 - val_loss: 2.1166 - val_accuracy: 0.1924\n"
     ]
    }
   ],
   "source": [
    "history_model_2 = model_2.fit(X_train_norm, y_train_cat,\n",
    "                              batch_size=32, epochs=5,\n",
    "                              validation_data=(X_valid_norm, y_valid_cat))"
   ]
  },
  {
   "cell_type": "markdown",
   "metadata": {
    "id": "wgHBp2yib3Ti",
    "jp-MarkdownHeadingCollapsed": true,
    "tags": []
   },
   "source": [
    "#### __Модель 3__"
   ]
  },
  {
   "cell_type": "code",
   "execution_count": 16,
   "metadata": {
    "execution": {
     "iopub.execute_input": "2024-08-20T13:00:44.139981Z",
     "iopub.status.busy": "2024-08-20T13:00:44.138783Z",
     "iopub.status.idle": "2024-08-20T13:00:44.154751Z",
     "shell.execute_reply": "2024-08-20T13:00:44.153850Z",
     "shell.execute_reply.started": "2024-08-20T13:00:44.139894Z"
    },
    "tags": []
   },
   "outputs": [],
   "source": [
    "# Настройки\n",
    "INPUT_SHAPE = (32, 32, 3)\n",
    "EPOCHS = 40\n",
    "BATCH_SIZE = 64\n",
    "\n",
    "weight_decay = 0.0001"
   ]
  },
  {
   "cell_type": "markdown",
   "metadata": {
    "id": "T6T4I9XDggly",
    "tags": []
   },
   "source": [
    "##### Архитектура модели 3"
   ]
  },
  {
   "cell_type": "markdown",
   "metadata": {
    "id": "DT9_9WdaX5wm"
   },
   "source": [
    "https://www.kaggle.com/code/farzadnekouei/cifar-10-image-classification-with-cnn"
   ]
  },
  {
   "cell_type": "code",
   "execution_count": 17,
   "metadata": {
    "execution": {
     "iopub.execute_input": "2024-08-20T13:00:45.727446Z",
     "iopub.status.busy": "2024-08-20T13:00:45.726598Z",
     "iopub.status.idle": "2024-08-20T13:00:45.997503Z",
     "shell.execute_reply": "2024-08-20T13:00:45.996624Z",
     "shell.execute_reply.started": "2024-08-20T13:00:45.727402Z"
    },
    "tags": []
   },
   "outputs": [
    {
     "name": "stdout",
     "output_type": "stream",
     "text": [
      "Model: \"sequential_2\"\n",
      "_________________________________________________________________\n",
      " Layer (type)                Output Shape              Param #   \n",
      "=================================================================\n",
      " conv2d_9 (Conv2D)           (None, 32, 32, 32)        896       \n",
      "                                                                 \n",
      " batch_normalization_9 (Batc  (None, 32, 32, 32)       128       \n",
      " hNormalization)                                                 \n",
      "                                                                 \n",
      " conv2d_10 (Conv2D)          (None, 32, 32, 32)        9248      \n",
      "                                                                 \n",
      " batch_normalization_10 (Bat  (None, 32, 32, 32)       128       \n",
      " chNormalization)                                                \n",
      "                                                                 \n",
      " max_pooling2d_4 (MaxPooling  (None, 16, 16, 32)       0         \n",
      " 2D)                                                             \n",
      "                                                                 \n",
      " dropout_4 (Dropout)         (None, 16, 16, 32)        0         \n",
      "                                                                 \n",
      " conv2d_11 (Conv2D)          (None, 16, 16, 64)        18496     \n",
      "                                                                 \n",
      " batch_normalization_11 (Bat  (None, 16, 16, 64)       256       \n",
      " chNormalization)                                                \n",
      "                                                                 \n",
      " conv2d_12 (Conv2D)          (None, 16, 16, 64)        36928     \n",
      "                                                                 \n",
      " batch_normalization_12 (Bat  (None, 16, 16, 64)       256       \n",
      " chNormalization)                                                \n",
      "                                                                 \n",
      " max_pooling2d_5 (MaxPooling  (None, 8, 8, 64)         0         \n",
      " 2D)                                                             \n",
      "                                                                 \n",
      " dropout_5 (Dropout)         (None, 8, 8, 64)          0         \n",
      "                                                                 \n",
      " conv2d_13 (Conv2D)          (None, 8, 8, 128)         73856     \n",
      "                                                                 \n",
      " batch_normalization_13 (Bat  (None, 8, 8, 128)        512       \n",
      " chNormalization)                                                \n",
      "                                                                 \n",
      " conv2d_14 (Conv2D)          (None, 8, 8, 128)         147584    \n",
      "                                                                 \n",
      " batch_normalization_14 (Bat  (None, 8, 8, 128)        512       \n",
      " chNormalization)                                                \n",
      "                                                                 \n",
      " max_pooling2d_6 (MaxPooling  (None, 4, 4, 128)        0         \n",
      " 2D)                                                             \n",
      "                                                                 \n",
      " dropout_6 (Dropout)         (None, 4, 4, 128)         0         \n",
      "                                                                 \n",
      " conv2d_15 (Conv2D)          (None, 4, 4, 256)         295168    \n",
      "                                                                 \n",
      " batch_normalization_15 (Bat  (None, 4, 4, 256)        1024      \n",
      " chNormalization)                                                \n",
      "                                                                 \n",
      " conv2d_16 (Conv2D)          (None, 4, 4, 256)         590080    \n",
      "                                                                 \n",
      " batch_normalization_16 (Bat  (None, 4, 4, 256)        1024      \n",
      " chNormalization)                                                \n",
      "                                                                 \n",
      " max_pooling2d_7 (MaxPooling  (None, 2, 2, 256)        0         \n",
      " 2D)                                                             \n",
      "                                                                 \n",
      " dropout_7 (Dropout)         (None, 2, 2, 256)         0         \n",
      "                                                                 \n",
      " flatten_1 (Flatten)         (None, 1024)              0         \n",
      "                                                                 \n",
      " dense_1 (Dense)             (None, 10)                10250     \n",
      "                                                                 \n",
      "=================================================================\n",
      "Total params: 1,186,346\n",
      "Trainable params: 1,184,426\n",
      "Non-trainable params: 1,920\n",
      "_________________________________________________________________\n"
     ]
    }
   ],
   "source": [
    "model_3 = keras.Sequential([keras.Input(shape=INPUT_SHAPE)])\n",
    "model_3.add(Conv2D(filters=32, kernel_size=(3,3), padding='same', activation='relu'))\n",
    "model_3.add(BatchNormalization())\n",
    "\n",
    "# Add the second convolutional layer similar to the first\n",
    "model_3.add(Conv2D(filters=32, kernel_size=(3,3), padding='same', activation='relu', kernel_regularizer=l2(weight_decay)))\n",
    "model_3.add(BatchNormalization())\n",
    "\n",
    "# Add the first max pooling layer with pool size of 2x2\n",
    "model_3.add(MaxPooling2D(pool_size=(2, 2)))\n",
    "model_3.add(Dropout(rate=0.2))\n",
    "\n",
    "# Add the third and fourth convolutional layers with 64 filters\n",
    "model_3.add(Conv2D(filters=64, kernel_size=(3,3), padding='same', activation='relu', kernel_regularizer=l2(weight_decay)))   \n",
    "model_3.add(BatchNormalization())\n",
    "model_3.add(Conv2D(filters=64, kernel_size=(3,3), padding='same', activation='relu', kernel_regularizer=l2(weight_decay)))\n",
    "model_3.add(BatchNormalization())\n",
    "\n",
    "# Add the second max pooling layer and increase dropout rate to 0.3\n",
    "model_3.add(MaxPooling2D(pool_size=(2, 2)))\n",
    "model_3.add(Dropout(rate=0.3))\n",
    "\n",
    "# Add the fifth and sixth convolutional layers with 128 filters\n",
    "model_3.add(Conv2D(filters=128, kernel_size=(3,3), padding='same', activation='relu', kernel_regularizer=l2(weight_decay))) \n",
    "model_3.add(BatchNormalization())\n",
    "model_3.add(Conv2D(filters=128, kernel_size=(3,3), padding='same', activation='relu', kernel_regularizer=l2(weight_decay)))\n",
    "model_3.add(BatchNormalization())\n",
    "\n",
    "# Add the third max pooling layer and increase dropout rate to 0.4\n",
    "model_3.add(MaxPooling2D(pool_size=(2, 2)))\n",
    "model_3.add(Dropout(rate=0.4))\n",
    "\n",
    "# Add the seventh and eighth convolutional layers with 256 filters\n",
    "model_3.add(Conv2D(filters=256, kernel_size=(3,3), padding='same', activation='relu', kernel_regularizer=l2(weight_decay))) \n",
    "model_3.add(BatchNormalization())\n",
    "model_3.add(Conv2D(filters=256, kernel_size=(3,3), padding='same', activation='relu', kernel_regularizer=l2(weight_decay)))\n",
    "model_3.add(BatchNormalization())\n",
    "\n",
    "# Add the fourth max pooling layer and increase dropout rate to 0.5\n",
    "model_3.add(MaxPooling2D(pool_size=(2, 2)))\n",
    "model_3.add(Dropout(rate=0.5))\n",
    "\n",
    "# Flatten the tensor output from the previous layer\n",
    "model_3.add(Flatten())\n",
    "\n",
    "# Add a fully connected layer with softmax activation function for outputting class probabilities\n",
    "model_3.add(Dense(10, activation='softmax'))\n",
    "\n",
    "model_3.summary()"
   ]
  },
  {
   "cell_type": "code",
   "execution_count": 18,
   "metadata": {
    "execution": {
     "iopub.execute_input": "2024-08-20T13:00:49.498295Z",
     "iopub.status.busy": "2024-08-20T13:00:49.497087Z",
     "iopub.status.idle": "2024-08-20T13:00:49.555271Z",
     "shell.execute_reply": "2024-08-20T13:00:49.554349Z",
     "shell.execute_reply.started": "2024-08-20T13:00:49.498249Z"
    },
    "tags": []
   },
   "outputs": [],
   "source": [
    "optimizer = keras.optimizers.Adam(learning_rate=0.005)\n",
    "\n",
    "model_3.compile(\n",
    "    optimizer=optimizer, \n",
    "    loss=\"categorical_crossentropy\", metrics=[\"accuracy\"],\n",
    ")"
   ]
  },
  {
   "cell_type": "markdown",
   "metadata": {
    "id": "1r_yiI5yglU7"
   },
   "source": [
    "##### Обучение модели 3"
   ]
  },
  {
   "cell_type": "code",
   "execution_count": 19,
   "metadata": {
    "execution": {
     "iopub.execute_input": "2024-08-20T13:00:51.386829Z",
     "iopub.status.busy": "2024-08-20T13:00:51.385710Z",
     "iopub.status.idle": "2024-08-20T13:07:02.858027Z",
     "shell.execute_reply": "2024-08-20T13:07:02.857131Z",
     "shell.execute_reply.started": "2024-08-20T13:00:51.386791Z"
    },
    "tags": []
   },
   "outputs": [
    {
     "name": "stdout",
     "output_type": "stream",
     "text": [
      "Epoch 1/40\n"
     ]
    },
    {
     "name": "stderr",
     "output_type": "stream",
     "text": [
      "2024-08-20 13:00:53.236950: E tensorflow/core/grappler/optimizers/meta_optimizer.cc:954] layout failed: INVALID_ARGUMENT: Size of values 0 does not match size of permutation 4 @ fanin shape insequential_2/dropout_4/dropout/SelectV2-2-TransposeNHWCToNCHW-LayoutOptimizer\n"
     ]
    },
    {
     "name": "stdout",
     "output_type": "stream",
     "text": [
      "704/704 [==============================] - 11s 13ms/step - loss: 2.6600 - accuracy: 0.3336 - val_loss: 47.3580 - val_accuracy: 0.1124\n",
      "Epoch 2/40\n",
      "704/704 [==============================] - 9s 13ms/step - loss: 2.1478 - accuracy: 0.4405 - val_loss: 2.0163 - val_accuracy: 0.4410\n",
      "Epoch 3/40\n",
      "704/704 [==============================] - 9s 13ms/step - loss: 1.6118 - accuracy: 0.5537 - val_loss: 1.5637 - val_accuracy: 0.5620\n",
      "Epoch 4/40\n",
      "704/704 [==============================] - 9s 13ms/step - loss: 1.3851 - accuracy: 0.6224 - val_loss: 1.4960 - val_accuracy: 0.6006\n",
      "Epoch 5/40\n",
      "704/704 [==============================] - 9s 13ms/step - loss: 1.2757 - accuracy: 0.6765 - val_loss: 1.3926 - val_accuracy: 0.6394\n",
      "Epoch 6/40\n",
      "704/704 [==============================] - 9s 13ms/step - loss: 1.2465 - accuracy: 0.7022 - val_loss: 1.6722 - val_accuracy: 0.5856\n",
      "Epoch 7/40\n",
      "704/704 [==============================] - 9s 13ms/step - loss: 1.2453 - accuracy: 0.7171 - val_loss: 1.4506 - val_accuracy: 0.6614\n",
      "Epoch 8/40\n",
      "704/704 [==============================] - 9s 13ms/step - loss: 1.2332 - accuracy: 0.7296 - val_loss: 1.1913 - val_accuracy: 0.7460\n",
      "Epoch 9/40\n",
      "704/704 [==============================] - 9s 13ms/step - loss: 1.2108 - accuracy: 0.7390 - val_loss: 1.2633 - val_accuracy: 0.7178\n",
      "Epoch 10/40\n",
      "704/704 [==============================] - 9s 13ms/step - loss: 1.1888 - accuracy: 0.7476 - val_loss: 1.2035 - val_accuracy: 0.7384\n",
      "Epoch 11/40\n",
      "704/704 [==============================] - 9s 13ms/step - loss: 1.1758 - accuracy: 0.7492 - val_loss: 1.2091 - val_accuracy: 0.7370\n",
      "Epoch 12/40\n",
      "704/704 [==============================] - 9s 13ms/step - loss: 1.1475 - accuracy: 0.7569 - val_loss: 1.1642 - val_accuracy: 0.7526\n",
      "Epoch 13/40\n",
      "704/704 [==============================] - 9s 13ms/step - loss: 1.1423 - accuracy: 0.7597 - val_loss: 1.1161 - val_accuracy: 0.7618\n",
      "Epoch 14/40\n",
      "704/704 [==============================] - 9s 13ms/step - loss: 1.1278 - accuracy: 0.7620 - val_loss: 1.1896 - val_accuracy: 0.7356\n",
      "Epoch 15/40\n",
      "704/704 [==============================] - 9s 13ms/step - loss: 1.1099 - accuracy: 0.7664 - val_loss: 1.1388 - val_accuracy: 0.7588\n",
      "Epoch 16/40\n",
      "704/704 [==============================] - 9s 13ms/step - loss: 1.0986 - accuracy: 0.7687 - val_loss: 1.0605 - val_accuracy: 0.7732\n",
      "Epoch 17/40\n",
      "704/704 [==============================] - 9s 13ms/step - loss: 1.0949 - accuracy: 0.7678 - val_loss: 1.0886 - val_accuracy: 0.7676\n",
      "Epoch 18/40\n",
      "704/704 [==============================] - 9s 13ms/step - loss: 1.0758 - accuracy: 0.7739 - val_loss: 1.0875 - val_accuracy: 0.7670\n",
      "Epoch 19/40\n",
      "704/704 [==============================] - 9s 13ms/step - loss: 1.0781 - accuracy: 0.7744 - val_loss: 1.1394 - val_accuracy: 0.7572\n",
      "Epoch 20/40\n",
      "704/704 [==============================] - 9s 13ms/step - loss: 1.0649 - accuracy: 0.7771 - val_loss: 1.0393 - val_accuracy: 0.7734\n",
      "Epoch 21/40\n",
      "704/704 [==============================] - 9s 13ms/step - loss: 1.0634 - accuracy: 0.7776 - val_loss: 1.0728 - val_accuracy: 0.7684\n",
      "Epoch 22/40\n",
      "704/704 [==============================] - 9s 13ms/step - loss: 1.0560 - accuracy: 0.7764 - val_loss: 1.0202 - val_accuracy: 0.7874\n",
      "Epoch 23/40\n",
      "704/704 [==============================] - 9s 13ms/step - loss: 1.0371 - accuracy: 0.7798 - val_loss: 1.0960 - val_accuracy: 0.7592\n",
      "Epoch 24/40\n",
      "704/704 [==============================] - 9s 13ms/step - loss: 1.0420 - accuracy: 0.7814 - val_loss: 1.0280 - val_accuracy: 0.7786\n",
      "Epoch 25/40\n",
      "704/704 [==============================] - 9s 13ms/step - loss: 1.0359 - accuracy: 0.7807 - val_loss: 1.1123 - val_accuracy: 0.7542\n",
      "Epoch 26/40\n",
      "704/704 [==============================] - 9s 13ms/step - loss: 1.0265 - accuracy: 0.7832 - val_loss: 0.9576 - val_accuracy: 0.8006\n",
      "Epoch 27/40\n",
      "704/704 [==============================] - 9s 13ms/step - loss: 1.0195 - accuracy: 0.7844 - val_loss: 1.0121 - val_accuracy: 0.7860\n",
      "Epoch 28/40\n",
      "704/704 [==============================] - 9s 13ms/step - loss: 1.0111 - accuracy: 0.7878 - val_loss: 1.0713 - val_accuracy: 0.7652\n",
      "Epoch 29/40\n",
      "704/704 [==============================] - 9s 13ms/step - loss: 1.0161 - accuracy: 0.7862 - val_loss: 1.1654 - val_accuracy: 0.7226\n",
      "Epoch 30/40\n",
      "704/704 [==============================] - 9s 13ms/step - loss: 1.0163 - accuracy: 0.7855 - val_loss: 1.0743 - val_accuracy: 0.7642\n",
      "Epoch 31/40\n",
      "704/704 [==============================] - 9s 13ms/step - loss: 1.0091 - accuracy: 0.7846 - val_loss: 1.0121 - val_accuracy: 0.7820\n",
      "Epoch 32/40\n",
      "704/704 [==============================] - 9s 13ms/step - loss: 1.0104 - accuracy: 0.7862 - val_loss: 1.0233 - val_accuracy: 0.7810\n",
      "Epoch 33/40\n",
      "704/704 [==============================] - 9s 13ms/step - loss: 1.0045 - accuracy: 0.7890 - val_loss: 1.0493 - val_accuracy: 0.7712\n",
      "Epoch 34/40\n",
      "704/704 [==============================] - 9s 13ms/step - loss: 1.0025 - accuracy: 0.7876 - val_loss: 0.9853 - val_accuracy: 0.7882\n",
      "Epoch 35/40\n",
      "704/704 [==============================] - 9s 13ms/step - loss: 1.0037 - accuracy: 0.7878 - val_loss: 1.0656 - val_accuracy: 0.7756\n",
      "Epoch 36/40\n",
      "704/704 [==============================] - 9s 13ms/step - loss: 0.9971 - accuracy: 0.7889 - val_loss: 1.0374 - val_accuracy: 0.7732\n",
      "Epoch 37/40\n",
      "704/704 [==============================] - 9s 13ms/step - loss: 0.9953 - accuracy: 0.7892 - val_loss: 1.0172 - val_accuracy: 0.7718\n",
      "Epoch 38/40\n",
      "704/704 [==============================] - 9s 13ms/step - loss: 0.9899 - accuracy: 0.7911 - val_loss: 1.0240 - val_accuracy: 0.7732\n",
      "Epoch 39/40\n",
      "704/704 [==============================] - 9s 13ms/step - loss: 0.9955 - accuracy: 0.7897 - val_loss: 1.0365 - val_accuracy: 0.7748\n",
      "Epoch 40/40\n",
      "704/704 [==============================] - 9s 13ms/step - loss: 0.9878 - accuracy: 0.7910 - val_loss: 0.9340 - val_accuracy: 0.8046\n"
     ]
    }
   ],
   "source": [
    "history_model_3 = model_3.fit(X_train_norm, y_train_cat,\n",
    "                              batch_size=BATCH_SIZE, epochs=EPOCHS,\n",
    "                              validation_data=(X_valid_norm, y_valid_cat))"
   ]
  },
  {
   "cell_type": "markdown",
   "metadata": {
    "id": "h_7KwjPnoJJB",
    "jp-MarkdownHeadingCollapsed": true,
    "tags": []
   },
   "source": [
    "### 8. Автоматически подберите оптимальные настройки гиперпараметров."
   ]
  },
  {
   "cell_type": "code",
   "execution_count": 21,
   "metadata": {
    "execution": {
     "iopub.execute_input": "2024-08-20T13:23:27.554272Z",
     "iopub.status.busy": "2024-08-20T13:23:27.553267Z",
     "iopub.status.idle": "2024-08-20T13:23:27.576745Z",
     "shell.execute_reply": "2024-08-20T13:23:27.575960Z",
     "shell.execute_reply.started": "2024-08-20T13:23:27.554224Z"
    },
    "tags": []
   },
   "outputs": [],
   "source": [
    "def build_model(hp):\n",
    "    model = keras.Sequential([keras.Input(shape=INPUT_SHAPE)])\n",
    "    model.add(Conv2D(filters=32, kernel_size=(3,3), padding='same', activation='relu'))\n",
    "    model.add(BatchNormalization())\n",
    "\n",
    "    # Add the second convolutional layer similar to the first\n",
    "    model.add(Conv2D(filters=32, kernel_size=(3,3), padding='same', activation='relu', kernel_regularizer=l2(weight_decay)))\n",
    "    model.add(BatchNormalization())\n",
    "\n",
    "    # Add the first max pooling layer with pool size of 2x2\n",
    "    model.add(MaxPooling2D(pool_size=(2, 2)))\n",
    "    model.add(Dropout(rate=0.2))\n",
    "\n",
    "    # Add the third and fourth convolutional layers with 64 filters\n",
    "    model.add(Conv2D(filters=64, kernel_size=(3,3), padding='same', activation='relu', kernel_regularizer=l2(weight_decay)))   \n",
    "    model.add(BatchNormalization())\n",
    "    model.add(Conv2D(filters=64, kernel_size=(3,3), padding='same', activation='relu', kernel_regularizer=l2(weight_decay)))\n",
    "    model.add(BatchNormalization())\n",
    "\n",
    "    # Add the second max pooling layer and increase dropout rate to 0.3\n",
    "    model.add(MaxPooling2D(pool_size=(2, 2)))\n",
    "    model.add(Dropout(rate=0.3))\n",
    "\n",
    "    # Add the fifth and sixth convolutional layers with 128 filters\n",
    "    model.add(Conv2D(filters=128, kernel_size=(3,3), padding='same', activation='relu', kernel_regularizer=l2(weight_decay))) \n",
    "    model.add(BatchNormalization())\n",
    "    model.add(Conv2D(filters=128, kernel_size=(3,3), padding='same', activation='relu', kernel_regularizer=l2(weight_decay)))\n",
    "    model.add(BatchNormalization())\n",
    "\n",
    "    # Add the third max pooling layer and increase dropout rate to 0.4\n",
    "    model.add(MaxPooling2D(pool_size=(2, 2)))\n",
    "    model.add(Dropout(rate=0.4))\n",
    "\n",
    "    # Add the seventh and eighth convolutional layers with 256 filters\n",
    "    model.add(Conv2D(filters=256, kernel_size=(3,3), padding='same', activation='relu', kernel_regularizer=l2(weight_decay))) \n",
    "    model.add(BatchNormalization())\n",
    "    model.add(Conv2D(filters=256, kernel_size=(3,3), padding='same', activation='relu', kernel_regularizer=l2(weight_decay)))\n",
    "    model.add(BatchNormalization())\n",
    "\n",
    "    # Add the fourth max pooling layer and increase dropout rate to 0.5\n",
    "    model.add(MaxPooling2D(pool_size=(2, 2))) \n",
    "    \n",
    "    # Подбор гиперпараметра\n",
    "    model.add(Dropout(rate=hp.Float('rate', min_value=0, max_value=1, step=0.2)))\n",
    "\n",
    "    model.add(Flatten())\n",
    "    \n",
    "    # Подбор гиперпараметра\n",
    "    model.add(Dense(units=hp.Int('units', min_value=100, max_value=1001, step=100),\n",
    "                               activation=hp.Choice('activation', ['relu', 'tanh'])\n",
    "                               ))\n",
    "    # Add a fully connected layer with softmax activation function for outputting class probabilities\n",
    "    model.add(Dense(10, activation='softmax'))\n",
    "    \n",
    "    optimizer = keras.optimizers.Adam(learning_rate=0.005)\n",
    "\n",
    "    model.compile(\n",
    "        optimizer=optimizer, \n",
    "        loss=\"categorical_crossentropy\", metrics=[\"accuracy\"],\n",
    "    )\n",
    "    \n",
    "    return model"
   ]
  },
  {
   "cell_type": "code",
   "execution_count": 22,
   "metadata": {
    "execution": {
     "iopub.execute_input": "2024-08-20T13:23:39.877389Z",
     "iopub.status.busy": "2024-08-20T13:23:39.876326Z",
     "iopub.status.idle": "2024-08-20T13:23:40.120742Z",
     "shell.execute_reply": "2024-08-20T13:23:40.119814Z",
     "shell.execute_reply.started": "2024-08-20T13:23:39.877345Z"
    },
    "executionInfo": {
     "elapsed": 455,
     "status": "ok",
     "timestamp": 1720169993980,
     "user": {
      "displayName": "Алексей Николаевич Черняков",
      "userId": "03502009944256768352"
     },
     "user_tz": -180
    },
    "id": "jxjQkzRtBBN0",
    "tags": []
   },
   "outputs": [],
   "source": [
    "tuner = keras_tuner.RandomSearch(\n",
    "    hypermodel=build_model,\n",
    "    objective=\"val_accuracy\",\n",
    "    max_trials=5,\n",
    "    executions_per_trial=2,\n",
    "    overwrite=True,\n",
    "    directory=\"my_dir\",\n",
    "    project_name=\"helloworld\",\n",
    ")"
   ]
  },
  {
   "cell_type": "code",
   "execution_count": 23,
   "metadata": {
    "colab": {
     "base_uri": "https://localhost:8080/",
     "height": 650
    },
    "execution": {
     "iopub.execute_input": "2024-08-20T13:23:50.828919Z",
     "iopub.status.busy": "2024-08-20T13:23:50.827706Z",
     "iopub.status.idle": "2024-08-20T14:45:53.803567Z",
     "shell.execute_reply": "2024-08-20T14:45:53.802725Z",
     "shell.execute_reply.started": "2024-08-20T13:23:50.828870Z"
    },
    "executionInfo": {
     "elapsed": 655749,
     "status": "error",
     "timestamp": 1720170651663,
     "user": {
      "displayName": "Алексей Николаевич Черняков",
      "userId": "03502009944256768352"
     },
     "user_tz": -180
    },
    "id": "Tl14drCnE9uo",
    "outputId": "e92257a8-73a0-4896-b553-ef1e2e797cfd",
    "tags": []
   },
   "outputs": [
    {
     "name": "stdout",
     "output_type": "stream",
     "text": [
      "Trial 5 Complete [00h 16m 11s]\n",
      "val_accuracy: 0.5354999899864197\n",
      "\n",
      "Best val_accuracy So Far: 0.7739000022411346\n",
      "Total elapsed time: 01h 22m 03s\n"
     ]
    }
   ],
   "source": [
    "tuner.search(X_train_norm, y_train_cat, epochs=40,\n",
    "             validation_data=(X_valid_norm, y_valid_cat)\n",
    "             )"
   ]
  },
  {
   "cell_type": "code",
   "execution_count": 24,
   "metadata": {
    "execution": {
     "iopub.execute_input": "2024-08-20T14:45:53.816030Z",
     "iopub.status.busy": "2024-08-20T14:45:53.815461Z",
     "iopub.status.idle": "2024-08-20T14:45:53.828776Z",
     "shell.execute_reply": "2024-08-20T14:45:53.828026Z",
     "shell.execute_reply.started": "2024-08-20T14:45:53.815997Z"
    },
    "tags": []
   },
   "outputs": [
    {
     "name": "stdout",
     "output_type": "stream",
     "text": [
      "Results summary\n",
      "Results in my_dir/helloworld\n",
      "Showing 10 best trials\n",
      "Objective(name=\"val_accuracy\", direction=\"max\")\n",
      "\n",
      "Trial 2 summary\n",
      "Hyperparameters:\n",
      "rate: 0.4\n",
      "units: 300\n",
      "activation: relu\n",
      "Score: 0.7739000022411346\n",
      "\n",
      "Trial 1 summary\n",
      "Hyperparameters:\n",
      "rate: 0.2\n",
      "units: 1000\n",
      "activation: relu\n",
      "Score: 0.7736000120639801\n",
      "\n",
      "Trial 3 summary\n",
      "Hyperparameters:\n",
      "rate: 0.6000000000000001\n",
      "units: 1000\n",
      "activation: relu\n",
      "Score: 0.7722000181674957\n",
      "\n",
      "Trial 0 summary\n",
      "Hyperparameters:\n",
      "rate: 0.6000000000000001\n",
      "units: 500\n",
      "activation: relu\n",
      "Score: 0.7721000015735626\n",
      "\n",
      "Trial 4 summary\n",
      "Hyperparameters:\n",
      "rate: 0.6000000000000001\n",
      "units: 100\n",
      "activation: tanh\n",
      "Score: 0.5354999899864197\n"
     ]
    }
   ],
   "source": [
    "tuner.results_summary()"
   ]
  },
  {
   "cell_type": "code",
   "execution_count": 25,
   "metadata": {
    "execution": {
     "iopub.execute_input": "2024-08-20T14:45:53.841454Z",
     "iopub.status.busy": "2024-08-20T14:45:53.840956Z",
     "iopub.status.idle": "2024-08-20T14:45:54.651969Z",
     "shell.execute_reply": "2024-08-20T14:45:54.651159Z",
     "shell.execute_reply.started": "2024-08-20T14:45:53.841418Z"
    },
    "id": "D6BQDgWcHVXm",
    "tags": []
   },
   "outputs": [
    {
     "name": "stdout",
     "output_type": "stream",
     "text": [
      "Model: \"sequential\"\n",
      "_________________________________________________________________\n",
      " Layer (type)                Output Shape              Param #   \n",
      "=================================================================\n",
      " conv2d (Conv2D)             (None, 32, 32, 32)        896       \n",
      "                                                                 \n",
      " batch_normalization (BatchN  (None, 32, 32, 32)       128       \n",
      " ormalization)                                                   \n",
      "                                                                 \n",
      " conv2d_1 (Conv2D)           (None, 32, 32, 32)        9248      \n",
      "                                                                 \n",
      " batch_normalization_1 (Batc  (None, 32, 32, 32)       128       \n",
      " hNormalization)                                                 \n",
      "                                                                 \n",
      " max_pooling2d (MaxPooling2D  (None, 16, 16, 32)       0         \n",
      " )                                                               \n",
      "                                                                 \n",
      " dropout (Dropout)           (None, 16, 16, 32)        0         \n",
      "                                                                 \n",
      " conv2d_2 (Conv2D)           (None, 16, 16, 64)        18496     \n",
      "                                                                 \n",
      " batch_normalization_2 (Batc  (None, 16, 16, 64)       256       \n",
      " hNormalization)                                                 \n",
      "                                                                 \n",
      " conv2d_3 (Conv2D)           (None, 16, 16, 64)        36928     \n",
      "                                                                 \n",
      " batch_normalization_3 (Batc  (None, 16, 16, 64)       256       \n",
      " hNormalization)                                                 \n",
      "                                                                 \n",
      " max_pooling2d_1 (MaxPooling  (None, 8, 8, 64)         0         \n",
      " 2D)                                                             \n",
      "                                                                 \n",
      " dropout_1 (Dropout)         (None, 8, 8, 64)          0         \n",
      "                                                                 \n",
      " conv2d_4 (Conv2D)           (None, 8, 8, 128)         73856     \n",
      "                                                                 \n",
      " batch_normalization_4 (Batc  (None, 8, 8, 128)        512       \n",
      " hNormalization)                                                 \n",
      "                                                                 \n",
      " conv2d_5 (Conv2D)           (None, 8, 8, 128)         147584    \n",
      "                                                                 \n",
      " batch_normalization_5 (Batc  (None, 8, 8, 128)        512       \n",
      " hNormalization)                                                 \n",
      "                                                                 \n",
      " max_pooling2d_2 (MaxPooling  (None, 4, 4, 128)        0         \n",
      " 2D)                                                             \n",
      "                                                                 \n",
      " dropout_2 (Dropout)         (None, 4, 4, 128)         0         \n",
      "                                                                 \n",
      " conv2d_6 (Conv2D)           (None, 4, 4, 256)         295168    \n",
      "                                                                 \n",
      " batch_normalization_6 (Batc  (None, 4, 4, 256)        1024      \n",
      " hNormalization)                                                 \n",
      "                                                                 \n",
      " conv2d_7 (Conv2D)           (None, 4, 4, 256)         590080    \n",
      "                                                                 \n",
      " batch_normalization_7 (Batc  (None, 4, 4, 256)        1024      \n",
      " hNormalization)                                                 \n",
      "                                                                 \n",
      " max_pooling2d_3 (MaxPooling  (None, 2, 2, 256)        0         \n",
      " 2D)                                                             \n",
      "                                                                 \n",
      " dropout_3 (Dropout)         (None, 2, 2, 256)         0         \n",
      "                                                                 \n",
      " flatten (Flatten)           (None, 1024)              0         \n",
      "                                                                 \n",
      " dense (Dense)               (None, 300)               307500    \n",
      "                                                                 \n",
      " dense_1 (Dense)             (None, 10)                3010      \n",
      "                                                                 \n",
      "=================================================================\n",
      "Total params: 1,486,606\n",
      "Trainable params: 1,484,686\n",
      "Non-trainable params: 1,920\n",
      "_________________________________________________________________\n"
     ]
    }
   ],
   "source": [
    "models = tuner.get_best_models()\n",
    "best_model = models[0]\n",
    "best_model.summary()"
   ]
  },
  {
   "cell_type": "code",
   "execution_count": 26,
   "metadata": {
    "execution": {
     "iopub.execute_input": "2024-08-20T14:45:54.655075Z",
     "iopub.status.busy": "2024-08-20T14:45:54.654144Z",
     "iopub.status.idle": "2024-08-20T14:45:54.674706Z",
     "shell.execute_reply": "2024-08-20T14:45:54.673934Z",
     "shell.execute_reply.started": "2024-08-20T14:45:54.655034Z"
    },
    "tags": []
   },
   "outputs": [
    {
     "name": "stdout",
     "output_type": "stream",
     "text": [
      "[Float(name: 'rate', min_value: '0.0', max_value: '1.0', step: '0.2', sampling: 'linear', default: '0.0'), Int(name: 'units', min_value: 100, max_value: 1001, step: 100, sampling: linear, default: 100), Choice(name: 'activation', values: ['relu', 'tanh'], ordered: False, default: relu)]\n",
      "{'rate': 0.4, 'units': 300, 'activation': 'relu'}\n"
     ]
    }
   ],
   "source": [
    "best_hps = tuner.get_best_hyperparameters()[0]\n",
    "print(best_hps.space)\n",
    "print(best_hps.values)"
   ]
  },
  {
   "cell_type": "markdown",
   "metadata": {
    "id": "kMv_Uv-mtrCs",
    "tags": []
   },
   "source": [
    "### 9. Запустите обучение нейронной сети, подключив валидацию на тестовом множестве. Необходимо использовать как минимум один callback. Сохраните историю обучения в history."
   ]
  },
  {
   "cell_type": "code",
   "execution_count": 29,
   "metadata": {
    "execution": {
     "iopub.execute_input": "2024-08-20T14:52:56.815859Z",
     "iopub.status.busy": "2024-08-20T14:52:56.814586Z",
     "iopub.status.idle": "2024-08-20T14:52:56.836694Z",
     "shell.execute_reply": "2024-08-20T14:52:56.835731Z",
     "shell.execute_reply.started": "2024-08-20T14:52:56.815813Z"
    },
    "tags": []
   },
   "outputs": [],
   "source": [
    "# Настройки\n",
    "INPUT_SHAPE = (32, 32, 3)\n",
    "EPOCHS = 300\n",
    "BATCH_SIZE = 64\n",
    "\n",
    "weight_decay = 0.0001"
   ]
  },
  {
   "cell_type": "code",
   "execution_count": 41,
   "metadata": {
    "execution": {
     "iopub.execute_input": "2024-08-20T15:13:47.374845Z",
     "iopub.status.busy": "2024-08-20T15:13:47.373717Z",
     "iopub.status.idle": "2024-08-20T15:13:47.625798Z",
     "shell.execute_reply": "2024-08-20T15:13:47.624852Z",
     "shell.execute_reply.started": "2024-08-20T15:13:47.374805Z"
    },
    "tags": []
   },
   "outputs": [],
   "source": [
    "model = keras.Sequential([keras.Input(shape=INPUT_SHAPE)])\n",
    "\n",
    "model.add(Conv2D(filters=32, kernel_size=(3,3), padding='same', activation='relu'))\n",
    "model.add(BatchNormalization())\n",
    "\n",
    "# Add the second convolutional layer similar to the first\n",
    "model.add(Conv2D(filters=32, kernel_size=(3,3), padding='same', activation='relu', kernel_regularizer=l2(weight_decay)))\n",
    "model.add(BatchNormalization())\n",
    "\n",
    "# Add the first max pooling layer with pool size of 2x2\n",
    "model.add(MaxPooling2D(pool_size=(2, 2)))\n",
    "model.add(Dropout(rate=0.2))\n",
    "\n",
    "# Add the third and fourth convolutional layers with 64 filters\n",
    "model.add(Conv2D(filters=64, kernel_size=(3,3), padding='same', activation='relu', kernel_regularizer=l2(weight_decay)))   \n",
    "model.add(BatchNormalization())\n",
    "model.add(Conv2D(filters=64, kernel_size=(3,3), padding='same', activation='relu', kernel_regularizer=l2(weight_decay)))\n",
    "model.add(BatchNormalization())\n",
    "\n",
    "# Add the second max pooling layer and increase dropout rate to 0.3\n",
    "model.add(MaxPooling2D(pool_size=(2, 2)))\n",
    "model.add(Dropout(rate=0.3))\n",
    "\n",
    "# Add the fifth and sixth convolutional layers with 128 filters\n",
    "model.add(Conv2D(filters=128, kernel_size=(3,3), padding='same', activation='relu', kernel_regularizer=l2(weight_decay))) \n",
    "model.add(BatchNormalization())\n",
    "model.add(Conv2D(filters=128, kernel_size=(3,3), padding='same', activation='relu', kernel_regularizer=l2(weight_decay)))\n",
    "model.add(BatchNormalization())\n",
    "\n",
    "# Add the third max pooling layer and increase dropout rate to 0.4\n",
    "model.add(MaxPooling2D(pool_size=(2, 2)))\n",
    "model.add(Dropout(rate=0.4))\n",
    "\n",
    "# Add the seventh and eighth convolutional layers with 256 filters\n",
    "model.add(Conv2D(filters=256, kernel_size=(3,3), padding='same', activation='relu', kernel_regularizer=l2(weight_decay))) \n",
    "model.add(BatchNormalization())\n",
    "model.add(Conv2D(filters=256, kernel_size=(3,3), padding='same', activation='relu', kernel_regularizer=l2(weight_decay)))\n",
    "model.add(BatchNormalization())\n",
    "\n",
    "# Add the fourth max pooling layer and increase dropout rate to 0.5\n",
    "model.add(MaxPooling2D(pool_size=(2, 2))) \n",
    "\n",
    "# Подбор гиперпараметра\n",
    "model.add(Dropout(rate=0.4))\n",
    "\n",
    "model.add(Flatten())\n",
    "\n",
    "# Подбор гиперпараметра\n",
    "# model.add(Dense(units=300, activation='relu'))\n",
    "# Add a fully connected layer with softmax activation function for outputting class probabilities\n",
    "model.add(Dense(10, activation='softmax'))\n",
    "\n",
    "optimizer = keras.optimizers.Adam(learning_rate=0.005)\n",
    "\n",
    "model.compile(\n",
    "    optimizer=optimizer, \n",
    "    loss=\"categorical_crossentropy\", metrics=[\"accuracy\"],\n",
    ")  "
   ]
  },
  {
   "cell_type": "code",
   "execution_count": 59,
   "metadata": {
    "execution": {
     "iopub.execute_input": "2024-08-20T15:37:54.316998Z",
     "iopub.status.busy": "2024-08-20T15:37:54.316127Z",
     "iopub.status.idle": "2024-08-20T15:37:54.329855Z",
     "shell.execute_reply": "2024-08-20T15:37:54.329070Z",
     "shell.execute_reply.started": "2024-08-20T15:37:54.316955Z"
    },
    "id": "F5XqhcLCttL1",
    "tags": []
   },
   "outputs": [],
   "source": [
    "my_callbacks = [\n",
    "    keras.callbacks.EarlyStopping(monitor='val_accuracy', min_delta=0.0000001, patience=2, verbose=1),\n",
    "    keras.callbacks.ModelCheckpoint(filepath='mymodel.{epoch:02d}-{val_accuracy:.3f}.h7', \n",
    "                                    save_best_only=True, monitor='loss', verbose=1),\n",
    "    keras.callbacks.TensorBoard(log_dir='./logs'),\n",
    "]"
   ]
  },
  {
   "cell_type": "code",
   "execution_count": 60,
   "metadata": {
    "execution": {
     "iopub.execute_input": "2024-08-20T15:37:56.244623Z",
     "iopub.status.busy": "2024-08-20T15:37:56.243574Z",
     "iopub.status.idle": "2024-08-20T15:38:50.554492Z",
     "shell.execute_reply": "2024-08-20T15:38:50.553546Z",
     "shell.execute_reply.started": "2024-08-20T15:37:56.244577Z"
    },
    "tags": []
   },
   "outputs": [
    {
     "name": "stdout",
     "output_type": "stream",
     "text": [
      "Epoch 1/300\n",
      "700/704 [============================>.] - ETA: 0s - loss: 0.9110 - accuracy: 0.8024\n",
      "Epoch 1: loss improved from inf to 0.91132, saving model to mymodel.01-0.790.h7\n"
     ]
    },
    {
     "name": "stderr",
     "output_type": "stream",
     "text": [
      "2024-08-20 15:38:07.134419: I tensorflow/core/common_runtime/executor.cc:1197] [/device:CPU:0] (DEBUG INFO) Executor start aborting (this does not indicate an error and you can ignore this message): INVALID_ARGUMENT: You must feed a value for placeholder tensor 'inputs' with dtype float and shape [?,16,16,32]\n",
      "\t [[{{node inputs}}]]\n",
      "2024-08-20 15:38:07.159388: I tensorflow/core/common_runtime/executor.cc:1197] [/device:CPU:0] (DEBUG INFO) Executor start aborting (this does not indicate an error and you can ignore this message): INVALID_ARGUMENT: You must feed a value for placeholder tensor 'inputs' with dtype float and shape [?,8,8,64]\n",
      "\t [[{{node inputs}}]]\n",
      "2024-08-20 15:38:07.184931: I tensorflow/core/common_runtime/executor.cc:1197] [/device:CPU:0] (DEBUG INFO) Executor start aborting (this does not indicate an error and you can ignore this message): INVALID_ARGUMENT: You must feed a value for placeholder tensor 'inputs' with dtype float and shape [?,4,4,128]\n",
      "\t [[{{node inputs}}]]\n",
      "2024-08-20 15:38:07.210707: I tensorflow/core/common_runtime/executor.cc:1197] [/device:CPU:0] (DEBUG INFO) Executor start aborting (this does not indicate an error and you can ignore this message): INVALID_ARGUMENT: You must feed a value for placeholder tensor 'inputs' with dtype float and shape [?,2,2,256]\n",
      "\t [[{{node inputs}}]]\n",
      "2024-08-20 15:38:07.798811: I tensorflow/core/common_runtime/executor.cc:1197] [/device:CPU:0] (DEBUG INFO) Executor start aborting (this does not indicate an error and you can ignore this message): INVALID_ARGUMENT: You must feed a value for placeholder tensor 'inputs' with dtype float and shape [?,16,16,32]\n",
      "\t [[{{node inputs}}]]\n",
      "2024-08-20 15:38:07.919113: I tensorflow/core/common_runtime/executor.cc:1197] [/device:CPU:0] (DEBUG INFO) Executor start aborting (this does not indicate an error and you can ignore this message): INVALID_ARGUMENT: You must feed a value for placeholder tensor 'inputs' with dtype float and shape [?,8,8,64]\n",
      "\t [[{{node inputs}}]]\n",
      "2024-08-20 15:38:08.041749: I tensorflow/core/common_runtime/executor.cc:1197] [/device:CPU:0] (DEBUG INFO) Executor start aborting (this does not indicate an error and you can ignore this message): INVALID_ARGUMENT: You must feed a value for placeholder tensor 'inputs' with dtype float and shape [?,4,4,128]\n",
      "\t [[{{node inputs}}]]\n",
      "2024-08-20 15:38:08.162663: I tensorflow/core/common_runtime/executor.cc:1197] [/device:CPU:0] (DEBUG INFO) Executor start aborting (this does not indicate an error and you can ignore this message): INVALID_ARGUMENT: You must feed a value for placeholder tensor 'inputs' with dtype float and shape [?,2,2,256]\n",
      "\t [[{{node inputs}}]]\n",
      "WARNING:absl:Found untraced functions such as _jit_compiled_convolution_op, _jit_compiled_convolution_op, _jit_compiled_convolution_op, _jit_compiled_convolution_op, _jit_compiled_convolution_op while saving (showing 5 of 8). These functions will not be directly callable after loading.\n"
     ]
    },
    {
     "name": "stdout",
     "output_type": "stream",
     "text": [
      "INFO:tensorflow:Assets written to: mymodel.01-0.790.h7/assets\n"
     ]
    },
    {
     "name": "stderr",
     "output_type": "stream",
     "text": [
      "INFO:tensorflow:Assets written to: mymodel.01-0.790.h7/assets\n"
     ]
    },
    {
     "name": "stdout",
     "output_type": "stream",
     "text": [
      "704/704 [==============================] - 13s 19ms/step - loss: 0.9113 - accuracy: 0.8023 - val_loss: 0.9722 - val_accuracy: 0.7904\n",
      "Epoch 2/300\n",
      "703/704 [============================>.] - ETA: 0s - loss: 0.9122 - accuracy: 0.8017\n",
      "Epoch 2: loss did not improve from 0.91132\n",
      "704/704 [==============================] - 9s 13ms/step - loss: 0.9123 - accuracy: 0.8016 - val_loss: 0.9857 - val_accuracy: 0.7762\n",
      "Epoch 3/300\n",
      "703/704 [============================>.] - ETA: 0s - loss: 0.9079 - accuracy: 0.8040\n",
      "Epoch 3: loss improved from 0.91132 to 0.90787, saving model to mymodel.03-0.813.h7\n"
     ]
    },
    {
     "name": "stderr",
     "output_type": "stream",
     "text": [
      "2024-08-20 15:38:29.445872: I tensorflow/core/common_runtime/executor.cc:1197] [/device:CPU:0] (DEBUG INFO) Executor start aborting (this does not indicate an error and you can ignore this message): INVALID_ARGUMENT: You must feed a value for placeholder tensor 'inputs' with dtype float and shape [?,16,16,32]\n",
      "\t [[{{node inputs}}]]\n",
      "2024-08-20 15:38:29.470846: I tensorflow/core/common_runtime/executor.cc:1197] [/device:CPU:0] (DEBUG INFO) Executor start aborting (this does not indicate an error and you can ignore this message): INVALID_ARGUMENT: You must feed a value for placeholder tensor 'inputs' with dtype float and shape [?,8,8,64]\n",
      "\t [[{{node inputs}}]]\n",
      "2024-08-20 15:38:29.497094: I tensorflow/core/common_runtime/executor.cc:1197] [/device:CPU:0] (DEBUG INFO) Executor start aborting (this does not indicate an error and you can ignore this message): INVALID_ARGUMENT: You must feed a value for placeholder tensor 'inputs' with dtype float and shape [?,4,4,128]\n",
      "\t [[{{node inputs}}]]\n",
      "2024-08-20 15:38:29.522646: I tensorflow/core/common_runtime/executor.cc:1197] [/device:CPU:0] (DEBUG INFO) Executor start aborting (this does not indicate an error and you can ignore this message): INVALID_ARGUMENT: You must feed a value for placeholder tensor 'inputs' with dtype float and shape [?,2,2,256]\n",
      "\t [[{{node inputs}}]]\n",
      "2024-08-20 15:38:30.110543: I tensorflow/core/common_runtime/executor.cc:1197] [/device:CPU:0] (DEBUG INFO) Executor start aborting (this does not indicate an error and you can ignore this message): INVALID_ARGUMENT: You must feed a value for placeholder tensor 'inputs' with dtype float and shape [?,16,16,32]\n",
      "\t [[{{node inputs}}]]\n",
      "2024-08-20 15:38:30.232131: I tensorflow/core/common_runtime/executor.cc:1197] [/device:CPU:0] (DEBUG INFO) Executor start aborting (this does not indicate an error and you can ignore this message): INVALID_ARGUMENT: You must feed a value for placeholder tensor 'inputs' with dtype float and shape [?,8,8,64]\n",
      "\t [[{{node inputs}}]]\n",
      "2024-08-20 15:38:30.352744: I tensorflow/core/common_runtime/executor.cc:1197] [/device:CPU:0] (DEBUG INFO) Executor start aborting (this does not indicate an error and you can ignore this message): INVALID_ARGUMENT: You must feed a value for placeholder tensor 'inputs' with dtype float and shape [?,4,4,128]\n",
      "\t [[{{node inputs}}]]\n",
      "2024-08-20 15:38:30.472675: I tensorflow/core/common_runtime/executor.cc:1197] [/device:CPU:0] (DEBUG INFO) Executor start aborting (this does not indicate an error and you can ignore this message): INVALID_ARGUMENT: You must feed a value for placeholder tensor 'inputs' with dtype float and shape [?,2,2,256]\n",
      "\t [[{{node inputs}}]]\n",
      "WARNING:absl:Found untraced functions such as _jit_compiled_convolution_op, _jit_compiled_convolution_op, _jit_compiled_convolution_op, _jit_compiled_convolution_op, _jit_compiled_convolution_op while saving (showing 5 of 8). These functions will not be directly callable after loading.\n"
     ]
    },
    {
     "name": "stdout",
     "output_type": "stream",
     "text": [
      "INFO:tensorflow:Assets written to: mymodel.03-0.813.h7/assets\n"
     ]
    },
    {
     "name": "stderr",
     "output_type": "stream",
     "text": [
      "INFO:tensorflow:Assets written to: mymodel.03-0.813.h7/assets\n"
     ]
    },
    {
     "name": "stdout",
     "output_type": "stream",
     "text": [
      "704/704 [==============================] - 13s 18ms/step - loss: 0.9079 - accuracy: 0.8040 - val_loss: 0.8924 - val_accuracy: 0.8134\n",
      "Epoch 4/300\n",
      "701/704 [============================>.] - ETA: 0s - loss: 0.9080 - accuracy: 0.8033\n",
      "Epoch 4: loss did not improve from 0.90787\n",
      "704/704 [==============================] - 9s 13ms/step - loss: 0.9081 - accuracy: 0.8033 - val_loss: 1.0150 - val_accuracy: 0.7678\n",
      "Epoch 5/300\n",
      "702/704 [============================>.] - ETA: 0s - loss: 0.9081 - accuracy: 0.8036\n",
      "Epoch 5: loss did not improve from 0.90787\n",
      "704/704 [==============================] - 9s 13ms/step - loss: 0.9081 - accuracy: 0.8036 - val_loss: 0.9075 - val_accuracy: 0.8056\n",
      "Epoch 5: early stopping\n"
     ]
    }
   ],
   "source": [
    "history_model_1 = model.fit(X_train_norm, y_train_cat,\n",
    "                              batch_size=BATCH_SIZE, epochs=EPOCHS,\n",
    "                              callbacks=my_callbacks,\n",
    "                              validation_data=(X_valid_norm, y_valid_cat))"
   ]
  },
  {
   "cell_type": "markdown",
   "metadata": {
    "id": "Hi0gCeZttttm"
   },
   "source": [
    "### 10. Выберите наилучшую архитектуру."
   ]
  },
  {
   "cell_type": "code",
   "execution_count": 62,
   "metadata": {
    "execution": {
     "iopub.execute_input": "2024-08-20T15:40:14.175755Z",
     "iopub.status.busy": "2024-08-20T15:40:14.174757Z",
     "iopub.status.idle": "2024-08-20T15:40:15.902067Z",
     "shell.execute_reply": "2024-08-20T15:40:15.899060Z",
     "shell.execute_reply.started": "2024-08-20T15:40:14.175713Z"
    },
    "tags": []
   },
   "outputs": [],
   "source": [
    "model = keras.models.load_model('/home/jupyter/datasphere/project/mymodel.03-0.813.h7')\n",
    "\n",
    "# model_1.load_weights('/home/jupyter/datasphere/project/mymodel.18-1.48.h5')"
   ]
  },
  {
   "cell_type": "code",
   "execution_count": 63,
   "metadata": {
    "execution": {
     "iopub.execute_input": "2024-08-20T15:41:04.637069Z",
     "iopub.status.busy": "2024-08-20T15:41:04.635717Z",
     "iopub.status.idle": "2024-08-20T15:41:04.703538Z",
     "shell.execute_reply": "2024-08-20T15:41:04.702647Z",
     "shell.execute_reply.started": "2024-08-20T15:41:04.637019Z"
    }
   },
   "outputs": [
    {
     "name": "stdout",
     "output_type": "stream",
     "text": [
      "Model: \"sequential_3\"\n",
      "_________________________________________________________________\n",
      " Layer (type)                Output Shape              Param #   \n",
      "=================================================================\n",
      " conv2d_24 (Conv2D)          (None, 32, 32, 32)        896       \n",
      "                                                                 \n",
      " batch_normalization_24 (Bat  (None, 32, 32, 32)       128       \n",
      " chNormalization)                                                \n",
      "                                                                 \n",
      " conv2d_25 (Conv2D)          (None, 32, 32, 32)        9248      \n",
      "                                                                 \n",
      " batch_normalization_25 (Bat  (None, 32, 32, 32)       128       \n",
      " chNormalization)                                                \n",
      "                                                                 \n",
      " max_pooling2d_12 (MaxPoolin  (None, 16, 16, 32)       0         \n",
      " g2D)                                                            \n",
      "                                                                 \n",
      " dropout_12 (Dropout)        (None, 16, 16, 32)        0         \n",
      "                                                                 \n",
      " conv2d_26 (Conv2D)          (None, 16, 16, 64)        18496     \n",
      "                                                                 \n",
      " batch_normalization_26 (Bat  (None, 16, 16, 64)       256       \n",
      " chNormalization)                                                \n",
      "                                                                 \n",
      " conv2d_27 (Conv2D)          (None, 16, 16, 64)        36928     \n",
      "                                                                 \n",
      " batch_normalization_27 (Bat  (None, 16, 16, 64)       256       \n",
      " chNormalization)                                                \n",
      "                                                                 \n",
      " max_pooling2d_13 (MaxPoolin  (None, 8, 8, 64)         0         \n",
      " g2D)                                                            \n",
      "                                                                 \n",
      " dropout_13 (Dropout)        (None, 8, 8, 64)          0         \n",
      "                                                                 \n",
      " conv2d_28 (Conv2D)          (None, 8, 8, 128)         73856     \n",
      "                                                                 \n",
      " batch_normalization_28 (Bat  (None, 8, 8, 128)        512       \n",
      " chNormalization)                                                \n",
      "                                                                 \n",
      " conv2d_29 (Conv2D)          (None, 8, 8, 128)         147584    \n",
      "                                                                 \n",
      " batch_normalization_29 (Bat  (None, 8, 8, 128)        512       \n",
      " chNormalization)                                                \n",
      "                                                                 \n",
      " max_pooling2d_14 (MaxPoolin  (None, 4, 4, 128)        0         \n",
      " g2D)                                                            \n",
      "                                                                 \n",
      " dropout_14 (Dropout)        (None, 4, 4, 128)         0         \n",
      "                                                                 \n",
      " conv2d_30 (Conv2D)          (None, 4, 4, 256)         295168    \n",
      "                                                                 \n",
      " batch_normalization_30 (Bat  (None, 4, 4, 256)        1024      \n",
      " chNormalization)                                                \n",
      "                                                                 \n",
      " conv2d_31 (Conv2D)          (None, 4, 4, 256)         590080    \n",
      "                                                                 \n",
      " batch_normalization_31 (Bat  (None, 4, 4, 256)        1024      \n",
      " chNormalization)                                                \n",
      "                                                                 \n",
      " max_pooling2d_15 (MaxPoolin  (None, 2, 2, 256)        0         \n",
      " g2D)                                                            \n",
      "                                                                 \n",
      " dropout_15 (Dropout)        (None, 2, 2, 256)         0         \n",
      "                                                                 \n",
      " flatten_3 (Flatten)         (None, 1024)              0         \n",
      "                                                                 \n",
      " dense_5 (Dense)             (None, 10)                10250     \n",
      "                                                                 \n",
      "=================================================================\n",
      "Total params: 1,186,346\n",
      "Trainable params: 1,184,426\n",
      "Non-trainable params: 1,920\n",
      "_________________________________________________________________\n"
     ]
    }
   ],
   "source": [
    "model.summary()"
   ]
  },
  {
   "cell_type": "markdown",
   "metadata": {
    "id": "fHJ8sESIoNH2"
   },
   "source": [
    "### 11. Визуализируйте графики точности и потерь при обучении."
   ]
  },
  {
   "cell_type": "code",
   "execution_count": 64,
   "metadata": {
    "colab": {
     "base_uri": "https://localhost:8080/",
     "height": 410
    },
    "execution": {
     "iopub.execute_input": "2024-08-20T15:41:26.979969Z",
     "iopub.status.busy": "2024-08-20T15:41:26.978846Z",
     "iopub.status.idle": "2024-08-20T15:41:27.400374Z",
     "shell.execute_reply": "2024-08-20T15:41:27.399494Z",
     "shell.execute_reply.started": "2024-08-20T15:41:26.979926Z"
    },
    "executionInfo": {
     "elapsed": 103448,
     "status": "ok",
     "timestamp": 1720092817027,
     "user": {
      "displayName": "Алексей Николаевич Черняков",
      "userId": "03502009944256768352"
     },
     "user_tz": -180
    },
    "id": "JyDZTRTNpj-w",
    "outputId": "964ceca1-e08d-4e2f-8add-5cb739cc07b3"
   },
   "outputs": [
    {
     "data": {
      "image/png": "[encoded data removed]",
      "text/plain": [
       "<Figure size 1200x400 with 2 Axes>"
      ]
     },
     "metadata": {},
     "output_type": "display_data"
    }
   ],
   "source": [
    "fig, axs = plt.subplots(1, 2, figsize=(12, 4))\n",
    "\n",
    "axs[0].plot(history_model_1.history['accuracy'], label='train')\n",
    "axs[0].plot(history_model_1.history['val_accuracy'], label='test')\n",
    "axs[0].set_title('Точность модели')\n",
    "axs[0].set_xlabel('Кол-во эпох')\n",
    "axs[0].set_ylabel('Точность')\n",
    "axs[0].grid()\n",
    "axs[0].legend()\n",
    "\n",
    "axs[1].plot(history_model_3.history['loss'], label='train')\n",
    "axs[1].plot(history_model_3.history['val_loss'], label='test')\n",
    "axs[1].set_title('Потери модели')\n",
    "axs[1].set_xlabel('Кол-во эпох')\n",
    "axs[1].set_ylabel('Потери')\n",
    "axs[1].grid()\n",
    "axs[1].legend()\n",
    "\n",
    "\n",
    "plt.show()"
   ]
  },
  {
   "cell_type": "markdown",
   "metadata": {
    "id": "fTPYnd31oOw7"
   },
   "source": [
    "### 12. Сделайте выводы:    \n",
    "- Какой тип нейросети показал себя лучше?\n",
    "- Какие вы пробовали настройки и архитектуры?\n",
    "- Сложнее ли этот набор данных, чем fashion_mnist? Почему вы так решили?"
   ]
  },
  {
   "cell_type": "markdown",
   "metadata": {},
   "source": [
    "Сверточная нейросеть показала себя лучше.     \n",
    "Показано 3 сети, пробывал еще несколько сетей, ничего лучше не получилось.    \n",
    "Набор данных сложнее, потому что три канала цвета"
   ]
  },
  {
   "cell_type": "markdown",
   "metadata": {
    "id": "J0KGIlY8opd6"
   },
   "source": [
    "### 13. По желанию.    \n",
    "Возьмите стороннюю фотографию, содержащую объект из меток CIFAR10, преобразуйте должным образом и подайте на вход обученной нейросети. Расшифруйте полученный результат, сделайте вывод."
   ]
  },
  {
   "cell_type": "code",
   "execution_count": null,
   "metadata": {
    "id": "90O-V0mVu11y"
   },
   "outputs": [],
   "source": []
  }
 ],
 "metadata": {
  "colab": {
   "authorship_tag": "ABX9TyPIDPZ7Cs/vdLT4PcWp5L6Y",
   "collapsed_sections": [
    "QCaWcvO-npWm",
    "LQl_OXyany2T",
    "EmsJxmIOn5X6",
    "onw6kEMyn9En",
    "cW58d6QooGj-",
    "Ana80lu7HEBs",
    "kgpLvQEXgWG5",
    "rLlv_O4_gZzT",
    "Wh_TxxoMZGfk",
    "9dO9JTXegOHT",
    "wgHBp2yib3Ti"
   ],
   "provenance": []
  },
  "kernelspec": {
   "display_name": "DataSphere Kernel",
   "language": "python",
   "name": "python3"
  },
  "language_info": {
   "codemirror_mode": {
    "name": "ipython",
    "version": 3
   },
   "file_extension": ".py",
   "mimetype": "text/x-python",
   "name": "python",
   "nbconvert_exporter": "python",
   "pygments_lexer": "ipython3",
   "version": "3.10.12"
  }
 },
 "nbformat": 4,
 "nbformat_minor": 4
}
